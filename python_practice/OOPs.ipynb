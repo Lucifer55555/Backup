{
 "cells": [
  {
   "cell_type": "markdown",
   "id": "ac809f8e",
   "metadata": {},
   "source": [
    "# # counstructor"
   ]
  },
  {
   "cell_type": "code",
   "execution_count": 45,
   "id": "a3032523",
   "metadata": {},
   "outputs": [],
   "source": [
    "class result:\n",
    "    p=0\n",
    "    c=0\n",
    "    m=0\n",
    "    \n",
    "    def __init__(self):\n",
    "        print('string obhect has been created')\n",
    "    def total(self):\n",
    "        print(self.p+self.c+self.m)\n",
    "    def percentage(self):\n",
    "        print((self.p+self.c+self.m)/3,'%')"
   ]
  },
  {
   "cell_type": "code",
   "execution_count": 47,
   "id": "95fe29e0",
   "metadata": {
    "scrolled": true
   },
   "outputs": [
    {
     "name": "stdout",
     "output_type": "stream",
     "text": [
      "string obhect has been created\n"
     ]
    }
   ],
   "source": [
    "sh=result()"
   ]
  },
  {
   "cell_type": "code",
   "execution_count": 48,
   "id": "3c60845d",
   "metadata": {},
   "outputs": [],
   "source": [
    "sh.p=90\n",
    "sh.c=90\n",
    "sh.m=90"
   ]
  },
  {
   "cell_type": "code",
   "execution_count": 49,
   "id": "cc261471",
   "metadata": {},
   "outputs": [
    {
     "name": "stdout",
     "output_type": "stream",
     "text": [
      "270\n"
     ]
    }
   ],
   "source": [
    "sh.total()"
   ]
  },
  {
   "cell_type": "code",
   "execution_count": 50,
   "id": "1faf47b9",
   "metadata": {},
   "outputs": [
    {
     "name": "stdout",
     "output_type": "stream",
     "text": [
      "90.0 %\n"
     ]
    }
   ],
   "source": [
    "sh.percentage()"
   ]
  },
  {
   "cell_type": "code",
   "execution_count": 53,
   "id": "e79db82b",
   "metadata": {},
   "outputs": [],
   "source": [
    "class result1:\n",
    "   \n",
    "    def __init__(self,ph,ch,ma):\n",
    "        self.p=ph\n",
    "        self.c=ch\n",
    "        self.m=ma\n",
    "    def total(self):\n",
    "        print(self.p+self.c+self.m)\n",
    "    def percentage():\n",
    "        print((self.p+self.c+self.m)/3,'%')"
   ]
  },
  {
   "cell_type": "code",
   "execution_count": 54,
   "id": "a06fc1a1",
   "metadata": {},
   "outputs": [
    {
     "data": {
      "text/plain": [
       "90"
      ]
     },
     "execution_count": 54,
     "metadata": {},
     "output_type": "execute_result"
    }
   ],
   "source": [
    "o.p"
   ]
  },
  {
   "cell_type": "code",
   "execution_count": 36,
   "id": "863924a6",
   "metadata": {},
   "outputs": [],
   "source": [
    "o=result1(90,91,92)"
   ]
  },
  {
   "cell_type": "code",
   "execution_count": 37,
   "id": "e67b2443",
   "metadata": {},
   "outputs": [
    {
     "name": "stdout",
     "output_type": "stream",
     "text": [
      "273\n"
     ]
    }
   ],
   "source": [
    "o.total()"
   ]
  },
  {
   "cell_type": "code",
   "execution_count": 8,
   "id": "fd1ce524",
   "metadata": {},
   "outputs": [
    {
     "name": "stdout",
     "output_type": "stream",
     "text": [
      "my name is 1\n"
     ]
    }
   ],
   "source": [
    "ame=1\n",
    "print(f'my name is {ame}')"
   ]
  },
  {
   "cell_type": "code",
   "execution_count": 5,
   "id": "92b12384",
   "metadata": {},
   "outputs": [
    {
     "name": "stdout",
     "output_type": "stream",
     "text": [
      "kmknmi3434NKNIM\n",
      "KMKNMI3434nknim\n"
     ]
    }
   ],
   "source": [
    "a=str(input())\n",
    "s=''\n",
    "for i in a:\n",
    "    if i==i.lower():\n",
    "        s=s+i.upper()\n",
    "    elif i==i.upper():\n",
    "        s=s+i.lower()\n",
    "    else:\n",
    "        s=s+i\n",
    "print(s)    \n",
    "        \n",
    "\n"
   ]
  },
  {
   "cell_type": "code",
   "execution_count": null,
   "id": "27c1ccca",
   "metadata": {},
   "outputs": [],
   "source": []
  }
 ],
 "metadata": {
  "kernelspec": {
   "display_name": "Python 3 (ipykernel)",
   "language": "python",
   "name": "python3"
  },
  "language_info": {
   "codemirror_mode": {
    "name": "ipython",
    "version": 3
   },
   "file_extension": ".py",
   "mimetype": "text/x-python",
   "name": "python",
   "nbconvert_exporter": "python",
   "pygments_lexer": "ipython3",
   "version": "3.9.12"
  }
 },
 "nbformat": 4,
 "nbformat_minor": 5
}

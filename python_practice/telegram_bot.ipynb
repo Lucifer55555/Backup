{
 "cells": [
  {
   "cell_type": "code",
   "execution_count": 1,
   "id": "c5374407",
   "metadata": {},
   "outputs": [
    {
     "name": "stdout",
     "output_type": "stream",
     "text": [
      "Collecting pyTelegramBotAPI\n",
      "  Downloading pyTelegramBotAPI-4.12.0.tar.gz (232 kB)\n",
      "Requirement already satisfied: requests in c:\\users\\bhatt\\anaconda3\\lib\\site-packages (from pyTelegramBotAPI) (2.27.1)\n",
      "Requirement already satisfied: certifi>=2017.4.17 in c:\\users\\bhatt\\anaconda3\\lib\\site-packages (from requests->pyTelegramBotAPI) (2021.10.8)\n",
      "Requirement already satisfied: urllib3<1.27,>=1.21.1 in c:\\users\\bhatt\\anaconda3\\lib\\site-packages (from requests->pyTelegramBotAPI) (1.26.9)\n",
      "Requirement already satisfied: charset-normalizer~=2.0.0 in c:\\users\\bhatt\\anaconda3\\lib\\site-packages (from requests->pyTelegramBotAPI) (2.0.4)\n",
      "Requirement already satisfied: idna<4,>=2.5 in c:\\users\\bhatt\\anaconda3\\lib\\site-packages (from requests->pyTelegramBotAPI) (3.3)\n",
      "Building wheels for collected packages: pyTelegramBotAPI\n",
      "  Building wheel for pyTelegramBotAPI (setup.py): started\n",
      "  Building wheel for pyTelegramBotAPI (setup.py): finished with status 'done'\n",
      "  Created wheel for pyTelegramBotAPI: filename=pyTelegramBotAPI-4.12.0-py3-none-any.whl size=213969 sha256=fbc80fd765da856bd1f97f8b771cf5a7289cb3b6f8dc9f2c6a5d8d257608c723\n",
      "  Stored in directory: c:\\users\\bhatt\\appdata\\local\\pip\\cache\\wheels\\48\\bf\\bc\\ad78d069044c2e48c4d936914abd529bb64f0388fbea903a07\n",
      "Successfully built pyTelegramBotAPI\n",
      "Installing collected packages: pyTelegramBotAPI\n",
      "Successfully installed pyTelegramBotAPI-4.12.0\n"
     ]
    }
   ],
   "source": [
    "!pip install pyTelegramBotAPI"
   ]
  },
  {
   "cell_type": "code",
   "execution_count": 16,
   "id": "7b3f3a69",
   "metadata": {},
   "outputs": [
    {
     "name": "stdout",
     "output_type": "stream",
     "text": [
      "bot6037832644:AAE_HVdhb7HIc4HLvCvn1lwksSOEaoNmIwA\n",
      "5759621953\n",
      "{\"ok\":true,\"result\":{\"message_id\":5,\"from\":{\"id\":6037832644,\"is_bot\":true,\"first_name\":\"Black_panther\",\"username\":\"Delhi_panther_bot\"},\"chat\":{\"id\":5759621953,\"first_name\":\"Sahil\",\"username\":\"Jeremy_zuker\",\"type\":\"private\"},\"date\":1687198049,\"text\":\"\\\"@Jeremy_zuker\\\"\",\"entities\":[{\"offset\":1,\"length\":13,\"type\":\"mention\"}]}}\n",
      "1647607904\n",
      "{\"ok\":false,\"error_code\":400,\"description\":\"Bad Request: chat not found\"}\n",
      "1781677449\n",
      "{\"ok\":false,\"error_code\":400,\"description\":\"Bad Request: chat not found\"}\n",
      "program ended\n"
     ]
    }
   ],
   "source": [
    "import requests\n",
    "token='bot6037832644:AAE_HVdhb7HIc4HLvCvn1lwksSOEaoNmIwA'\n",
    "print(token)\n",
    "def broadcast(list1, msg):\n",
    "    for g_id in list1:\n",
    "        print(g_id)\n",
    "        to_url='https://api.telegram.org/{}/sendMessage?chat_id={}&text=\"{}\"'.format(token,g_id, msg)\n",
    "        resp=requests.get(to_url)\n",
    "        print(resp.text)\n",
    "\n",
    "\n",
    "list1=['-1001029862','-1001647607904','-1001781677449']\n",
    "msg='@Jeremy_zuker'\n",
    "broadcast(list1, msg)\n",
    "print('program ended')"
   ]
  },
  {
   "cell_type": "code",
   "execution_count": null,
   "id": "365333c3",
   "metadata": {},
   "outputs": [],
   "source": []
  }
 ],
 "metadata": {
  "kernelspec": {
   "display_name": "Python 3 (ipykernel)",
   "language": "python",
   "name": "python3"
  },
  "language_info": {
   "codemirror_mode": {
    "name": "ipython",
    "version": 3
   },
   "file_extension": ".py",
   "mimetype": "text/x-python",
   "name": "python",
   "nbconvert_exporter": "python",
   "pygments_lexer": "ipython3",
   "version": "3.9.12"
  }
 },
 "nbformat": 4,
 "nbformat_minor": 5
}

{
 "cells": [
  {
   "cell_type": "code",
   "execution_count": 19,
   "id": "0faa5b2c",
   "metadata": {},
   "outputs": [
    {
     "data": {
      "text/plain": [
       "'  NEERAJ   '"
      ]
     },
     "execution_count": 19,
     "metadata": {},
     "output_type": "execute_result"
    }
   ],
   "source": [
    "a=' @##$%$#$#@$ neeraj  $@#$ '\n",
    "a.upper()"
   ]
  },
  {
   "cell_type": "code",
   "execution_count": 30,
   "id": "7a295b38",
   "metadata": {},
   "outputs": [
    {
     "data": {
      "text/plain": [
       "'  neeraj   '"
      ]
     },
     "execution_count": 30,
     "metadata": {},
     "output_type": "execute_result"
    }
   ],
   "source": [
    "a.capitalize()"
   ]
  },
  {
   "cell_type": "code",
   "execution_count": 32,
   "id": "bc9c85e3",
   "metadata": {},
   "outputs": [
    {
     "data": {
      "text/plain": [
       "True"
      ]
     },
     "execution_count": 32,
     "metadata": {},
     "output_type": "execute_result"
    }
   ],
   "source": [
    "a.startswith(\" \")"
   ]
  },
  {
   "cell_type": "code",
   "execution_count": 34,
   "id": "e49e6201",
   "metadata": {},
   "outputs": [
    {
     "data": {
      "text/plain": [
       "'neeraj'"
      ]
     },
     "execution_count": 34,
     "metadata": {},
     "output_type": "execute_result"
    }
   ],
   "source": [
    "a.strip()"
   ]
  },
  {
   "cell_type": "code",
   "execution_count": 36,
   "id": "3f202c38",
   "metadata": {},
   "outputs": [
    {
     "name": "stdout",
     "output_type": "stream",
     "text": [
      "    n e e r a j      \n"
     ]
    }
   ],
   "source": [
    "print(*a)"
   ]
  },
  {
   "cell_type": "code",
   "execution_count": 72,
   "id": "a92020ef",
   "metadata": {},
   "outputs": [
    {
     "name": "stdout",
     "output_type": "stream",
     "text": [
      "'i' m student of relevel\n"
     ]
    }
   ],
   "source": [
    "print(\"'i\\' m student of relevel\")"
   ]
  },
  {
   "cell_type": "code",
   "execution_count": 51,
   "id": "e18a4a8e",
   "metadata": {
    "scrolled": true
   },
   "outputs": [
    {
     "name": "stdout",
     "output_type": "stream",
     "text": [
      "to \n"
     ]
    }
   ],
   "source": [
    "a = \"Welcome to Relevel\"\n",
    "print(a[8:11])"
   ]
  },
  {
   "cell_type": "code",
   "execution_count": 67,
   "id": "ed78b90e",
   "metadata": {},
   "outputs": [
    {
     "data": {
      "text/plain": [
       "'Hi Can we get rid of the periods here'"
      ]
     },
     "execution_count": 67,
     "metadata": {},
     "output_type": "execute_result"
    }
   ],
   "source": [
    "s = 'Hi.Can.we.get.rid.of.the.periods.here'\n",
    "sp=s.split('.')\n",
    "\" \".join(sp)"
   ]
  },
  {
   "cell_type": "code",
   "execution_count": 60,
   "id": "14131705",
   "metadata": {},
   "outputs": [
    {
     "name": "stdout",
     "output_type": "stream",
     "text": [
      "Hi Can we get rid of the periods here\n"
     ]
    }
   ],
   "source": [
    "string_to_split = 'Hi.Can.we.get.rid.of.the.periods.here'\n",
    "out = \" \".join(string_to_split.split('.'))\n",
    "print(out)"
   ]
  },
  {
   "cell_type": "code",
   "execution_count": 75,
   "id": "df31a43b",
   "metadata": {},
   "outputs": [
    {
     "data": {
      "text/plain": [
       "['here', 'periods', 'the', 'of', 'rid', 'get', 'we', 'Can', 'Hi']"
      ]
     },
     "execution_count": 75,
     "metadata": {},
     "output_type": "execute_result"
    }
   ],
   "source": [
    "\n",
    "sp[::-1]"
   ]
  },
  {
   "cell_type": "code",
   "execution_count": 117,
   "id": "6505b20f",
   "metadata": {},
   "outputs": [
    {
     "data": {
      "text/plain": [
       "['Hi', 'Can', 'we', 'get', 'rid', 'of', 'the', 'periods', 'here']"
      ]
     },
     "execution_count": 117,
     "metadata": {},
     "output_type": "execute_result"
    }
   ],
   "source": [
    "sp.reverse()\n",
    "sp\n"
   ]
  },
  {
   "cell_type": "code",
   "execution_count": 126,
   "id": "8409a366",
   "metadata": {},
   "outputs": [
    {
     "data": {
      "text/plain": [
       "[1, 2, 3, 'x', 9, 4, 5, 6, 7, [8, 9], 8, 10, 11]"
      ]
     },
     "execution_count": 126,
     "metadata": {},
     "output_type": "execute_result"
    }
   ],
   "source": [
    "l=[1, 2, 3, 9, 4, 5, 6, 7]\n",
    "l.append([8,9])\n",
    "l.extend([10,11])\n",
    "l\n",
    "l.insert(3,'x')\n",
    "l\n",
    "l.insert(-2,8)\n",
    "l\n"
   ]
  },
  {
   "cell_type": "code",
   "execution_count": 131,
   "id": "a5fc817d",
   "metadata": {},
   "outputs": [
    {
     "data": {
      "text/plain": [
       "[1, 4, 5, 6, 7, [8, 9], 8, 10, 11]"
      ]
     },
     "execution_count": 131,
     "metadata": {},
     "output_type": "execute_result"
    }
   ],
   "source": [
    "l\n",
    "l.pop(1)\n",
    "l"
   ]
  },
  {
   "cell_type": "code",
   "execution_count": 138,
   "id": "db65184c",
   "metadata": {},
   "outputs": [
    {
     "data": {
      "text/plain": [
       "False"
      ]
     },
     "execution_count": 138,
     "metadata": {},
     "output_type": "execute_result"
    }
   ],
   "source": [
    "'hi' in sp"
   ]
  },
  {
   "cell_type": "code",
   "execution_count": 144,
   "id": "4c4d8e58",
   "metadata": {},
   "outputs": [
    {
     "name": "stdout",
     "output_type": "stream",
     "text": [
      "['here', 'periods', 'the', 'of', 'rid', 'get', 'we', 'Can', 'Hi']\n",
      "['Hi', 'Can', 'we', 'get', 'rid', 'of', 'the', 'periods', 'here']\n"
     ]
    }
   ],
   "source": [
    "x=list(reversed(sp))\n",
    "print(x)\n",
    "x.reverse()\n",
    "print(x)\n"
   ]
  },
  {
   "cell_type": "code",
   "execution_count": 147,
   "id": "d66ee475",
   "metadata": {},
   "outputs": [
    {
     "name": "stdout",
     "output_type": "stream",
     "text": [
      "(1, 1, 'tup')\n",
      "(1,)\n"
     ]
    }
   ],
   "source": [
    "# creating a tuple without parernteses \n",
    "t=1,1,'tup'\n",
    "print(t)\n",
    "# and if u want to create a tuple of one element then u should put a comma after the element for eg\n",
    "s=1,\n",
    "print(s)"
   ]
  },
  {
   "cell_type": "code",
   "execution_count": 150,
   "id": "8b4c5a4b",
   "metadata": {},
   "outputs": [
    {
     "data": {
      "text/plain": [
       "('n', 'e', 'e', 'r', 'a', 'j')"
      ]
     },
     "execution_count": 150,
     "metadata": {},
     "output_type": "execute_result"
    }
   ],
   "source": [
    "name='neeraj'\n",
    "tu=tuple(name)\n",
    "tu\n"
   ]
  },
  {
   "cell_type": "markdown",
   "id": "ebb52e5f",
   "metadata": {},
   "source": [
    "Dictionary"
   ]
  },
  {
   "cell_type": "code",
   "execution_count": 156,
   "id": "44a11c02",
   "metadata": {},
   "outputs": [
    {
     "data": {
      "text/plain": [
       "{'maharastra': 'mumbai', 'tamil-nadu': 'chennai'}"
      ]
     },
     "execution_count": 156,
     "metadata": {},
     "output_type": "execute_result"
    }
   ],
   "source": [
    "dict={'maharastra':'mumbai',\n",
    "      'tamil-nadu':'chennai'}\n",
    "dict"
   ]
  },
  {
   "cell_type": "code",
   "execution_count": 1,
   "id": "ca9d439a",
   "metadata": {},
   "outputs": [
    {
     "data": {
      "text/plain": [
       "dict"
      ]
     },
     "execution_count": 1,
     "metadata": {},
     "output_type": "execute_result"
    }
   ],
   "source": [
    "dict.update({0:1,'up':'down','high':'low','right':'left'})\n",
    "dict\n"
   ]
  },
  {
   "cell_type": "code",
   "execution_count": 1,
   "id": "0034bf51",
   "metadata": {},
   "outputs": [
    {
     "name": "stdout",
     "output_type": "stream",
     "text": [
      "('List_Values', [0, 1, 2, 4])\n",
      "{0: 1, 'Haryana': 'Chandigarh', 'Maharashtra': 'Mumbai', 'Nested_dict': {'Key1': 'Value 1', 'Key2': 2}, 'Rajasthan': 'Jaipur', 'Tamil Nadu': 'Chennai'}\n"
     ]
    }
   ],
   "source": [
    "dic={0: 1,\n",
    " 'Haryana': 'Chandigarh',\n",
    " 'Maharashtra': 'Mumbai',\n",
    " 'Nested_dict': {'Key1': 'Value 1', 'Key2': 2},\n",
    " 'Rajasthan': 'Jaipur',\n",
    " 'Tamil Nadu': 'Chennai',\n",
    " 'List_Values': [0, 1, 2, 4]}\n",
    "pop_ele=dic.popitem()\n",
    "print(pop_ele)\n",
    "print(dic)"
   ]
  },
  {
   "cell_type": "code",
   "execution_count": 61,
   "id": "a1ce633f",
   "metadata": {},
   "outputs": [
    {
     "name": "stdout",
     "output_type": "stream",
     "text": [
      "{'A': 44, 'B': 66, 'c': 88, 'd': 110}\n"
     ]
    }
   ],
   "source": [
    "d={'A':22,'B':33,'c':44,'d':55}\n",
    "# new_d={i:v/11 for (i,v) in d.items()}\n",
    "new_d={}\n",
    "for (i,v) in d.items():\n",
    "        new_d.update({i:v*2})\n",
    "print(new_d)"
   ]
  },
  {
   "cell_type": "code",
   "execution_count": null,
   "id": "d4c98d19",
   "metadata": {},
   "outputs": [],
   "source": [
    "new={item:value/11 }"
   ]
  },
  {
   "cell_type": "code",
   "execution_count": 8,
   "id": "68017e54",
   "metadata": {},
   "outputs": [
    {
     "name": "stdout",
     "output_type": "stream",
     "text": [
      "[2, 50, 4304]\n"
     ]
    }
   ],
   "source": [
    "l=[1,2,3,50,4304,340.22342]\n",
    "n=[num for num in l if num%2==0]\n",
    "print(n)\n",
    "# n=[]\n",
    "# for a in l:\n",
    "#     n.append([a])\n",
    "# print(n)\n",
    "    "
   ]
  },
  {
   "cell_type": "code",
   "execution_count": 72,
   "id": "5d669968",
   "metadata": {},
   "outputs": [
    {
     "data": {
      "text/plain": [
       "{'A': 44, 'B': 66, 'c': 88, 'd': 110, 'e': 34}"
      ]
     },
     "execution_count": 72,
     "metadata": {},
     "output_type": "execute_result"
    }
   ],
   "source": [
    "new_d['e']=34\n",
    "new_d"
   ]
  },
  {
   "cell_type": "code",
   "execution_count": 76,
   "id": "8b30f489",
   "metadata": {},
   "outputs": [
    {
     "name": "stdout",
     "output_type": "stream",
     "text": [
      "{1, 2, 3, 4, 5, 6, 7, 8, 9}\n"
     ]
    },
    {
     "ename": "TypeError",
     "evalue": "unhashable type: 'set'",
     "output_type": "error",
     "traceback": [
      "\u001b[1;31m---------------------------------------------------------------------------\u001b[0m",
      "\u001b[1;31mTypeError\u001b[0m                                 Traceback (most recent call last)",
      "Input \u001b[1;32mIn [76]\u001b[0m, in \u001b[0;36m<cell line: 3>\u001b[1;34m()\u001b[0m\n\u001b[0;32m      1\u001b[0m sett \u001b[38;5;241m=\u001b[39m {\u001b[38;5;241m1\u001b[39m,\u001b[38;5;241m2\u001b[39m,\u001b[38;5;241m3\u001b[39m,\u001b[38;5;241m4\u001b[39m,\u001b[38;5;241m5\u001b[39m,\u001b[38;5;241m6\u001b[39m,\u001b[38;5;241m7\u001b[39m,\u001b[38;5;241m8\u001b[39m,\u001b[38;5;241m9\u001b[39m}\n\u001b[0;32m      2\u001b[0m \u001b[38;5;28mprint\u001b[39m(sett)\n\u001b[1;32m----> 3\u001b[0m \u001b[43msett\u001b[49m\u001b[38;5;241;43m.\u001b[39;49m\u001b[43madd\u001b[49m\u001b[43m(\u001b[49m\u001b[43m{\u001b[49m\u001b[38;5;241;43m15\u001b[39;49m\u001b[43m,\u001b[49m\u001b[38;5;241;43m16\u001b[39;49m\u001b[43m}\u001b[49m\u001b[43m)\u001b[49m\n\u001b[0;32m      4\u001b[0m \u001b[38;5;28mprint\u001b[39m(sett)\n\u001b[0;32m      5\u001b[0m sett\u001b[38;5;241m.\u001b[39mupdate({\u001b[38;5;241m12\u001b[39m,\u001b[38;5;241m13\u001b[39m,\u001b[38;5;241m14\u001b[39m})\n",
      "\u001b[1;31mTypeError\u001b[0m: unhashable type: 'set'"
     ]
    }
   ],
   "source": [
    "sett = {1,2,3,4,5,6,7,8,9}\n",
    "print(sett)\n",
    "sett.add({15,16})\n",
    "print(sett)\n",
    "sett.update({12,13,14})\n",
    "print(sett)"
   ]
  },
  {
   "cell_type": "code",
   "execution_count": 79,
   "id": "2a7eb729",
   "metadata": {},
   "outputs": [
    {
     "ename": "SyntaxError",
     "evalue": "cannot assign to function call (2008300532.py, line 1)",
     "output_type": "error",
     "traceback": [
      "\u001b[1;36m  Input \u001b[1;32mIn [79]\u001b[1;36m\u001b[0m\n\u001b[1;33m    sett.update({1})=0\u001b[0m\n\u001b[1;37m    ^\u001b[0m\n\u001b[1;31mSyntaxError\u001b[0m\u001b[1;31m:\u001b[0m cannot assign to function call\n"
     ]
    }
   ],
   "source": [
    "sett.update({1})=0"
   ]
  }
 ],
 "metadata": {
  "kernelspec": {
   "display_name": "Python 3 (ipykernel)",
   "language": "python",
   "name": "python3"
  },
  "language_info": {
   "codemirror_mode": {
    "name": "ipython",
    "version": 3
   },
   "file_extension": ".py",
   "mimetype": "text/x-python",
   "name": "python",
   "nbconvert_exporter": "python",
   "pygments_lexer": "ipython3",
   "version": "3.9.12"
  }
 },
 "nbformat": 4,
 "nbformat_minor": 5
}

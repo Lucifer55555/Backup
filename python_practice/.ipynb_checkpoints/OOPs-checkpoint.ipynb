{
 "cells": [
  {
   "cell_type": "markdown",
   "id": "7212f363",
   "metadata": {},
   "source": [
    "# # counstructor"
   ]
  },
  {
   "cell_type": "code",
   "execution_count": 45,
   "id": "b89725db",
   "metadata": {},
   "outputs": [],
   "source": [
    "class result:\n",
    "    p=0\n",
    "    c=0\n",
    "    m=0\n",
    "    \n",
    "    def __init__(self):\n",
    "        print('string obhect has been created')\n",
    "    def total(self):\n",
    "        print(self.p+self.c+self.m)\n",
    "    def percentage(self):\n",
    "        print((self.p+self.c+self.m)/3,'%')"
   ]
  },
  {
   "cell_type": "code",
   "execution_count": 47,
   "id": "49d70f84",
   "metadata": {
    "scrolled": true
   },
   "outputs": [
    {
     "name": "stdout",
     "output_type": "stream",
     "text": [
      "string obhect has been created\n"
     ]
    }
   ],
   "source": [
    "sh=result()"
   ]
  },
  {
   "cell_type": "code",
   "execution_count": 48,
   "id": "1ac0dd04",
   "metadata": {},
   "outputs": [],
   "source": [
    "sh.p=90\n",
    "sh.c=90\n",
    "sh.m=90"
   ]
  },
  {
   "cell_type": "code",
   "execution_count": 49,
   "id": "9eb1c97d",
   "metadata": {},
   "outputs": [
    {
     "name": "stdout",
     "output_type": "stream",
     "text": [
      "270\n"
     ]
    }
   ],
   "source": [
    "sh.total()"
   ]
  },
  {
   "cell_type": "code",
   "execution_count": null,
   "id": "13c0f9d6",
   "metadata": {},
   "outputs": [],
   "source": []
  },
  {
   "cell_type": "code",
   "execution_count": 35,
   "id": "2963d93e",
   "metadata": {},
   "outputs": [],
   "source": [
    "class result1:\n",
    "    def __init__(self,ph,ch,ma):\n",
    "        self.p=ph\n",
    "        self.c=ch\n",
    "        self.m=ma\n",
    "    def total(self):\n",
    "        print(self.p+self.c+self.m)\n",
    "    def percentage():\n",
    "        print((self.p+self.c+self.m)/3,'%')"
   ]
  },
  {
   "cell_type": "code",
   "execution_count": 36,
   "id": "ca00bdd8",
   "metadata": {},
   "outputs": [],
   "source": [
    "o=result1(90,91,92)"
   ]
  },
  {
   "cell_type": "code",
   "execution_count": 37,
   "id": "59920170",
   "metadata": {},
   "outputs": [
    {
     "name": "stdout",
     "output_type": "stream",
     "text": [
      "273\n"
     ]
    }
   ],
   "source": [
    "o.total()"
   ]
  },
  {
   "cell_type": "code",
   "execution_count": null,
   "id": "cbdae8dd",
   "metadata": {},
   "outputs": [],
   "source": []
  }
 ],
 "metadata": {
  "kernelspec": {
   "display_name": "Python 3 (ipykernel)",
   "language": "python",
   "name": "python3"
  },
  "language_info": {
   "codemirror_mode": {
    "name": "ipython",
    "version": 3
   },
   "file_extension": ".py",
   "mimetype": "text/x-python",
   "name": "python",
   "nbconvert_exporter": "python",
   "pygments_lexer": "ipython3",
   "version": "3.9.12"
  }
 },
 "nbformat": 4,
 "nbformat_minor": 5
}

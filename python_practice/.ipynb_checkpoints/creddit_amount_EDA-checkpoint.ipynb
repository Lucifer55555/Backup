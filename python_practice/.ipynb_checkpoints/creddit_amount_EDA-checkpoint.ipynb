{
 "cells": [
  {
   "cell_type": "code",
   "execution_count": 4,
   "id": "36c7184e",
   "metadata": {},
   "outputs": [],
   "source": [
    "import numpy as np \n",
    "import pandas as pd \n",
    "import matplotlib.pyplot as plt\n",
    "import seaborn as sns\n",
    "from sklearn import datasets"
   ]
  },
  {
   "cell_type": "code",
   "execution_count": 5,
   "id": "78e90ae4",
   "metadata": {},
   "outputs": [],
   "source": [
    "ir=datasets.load_iris()"
   ]
  },
  {
   "cell_type": "code",
   "execution_count": 12,
   "id": "611423e3",
   "metadata": {},
   "outputs": [
    {
     "ename": "AttributeError",
     "evalue": "isnull",
     "output_type": "error",
     "traceback": [
      "\u001b[1;31m---------------------------------------------------------------------------\u001b[0m",
      "\u001b[1;31mKeyError\u001b[0m                                  Traceback (most recent call last)",
      "File \u001b[1;32mC:\\ProgramData\\Anaconda3\\lib\\site-packages\\sklearn\\utils\\__init__.py:117\u001b[0m, in \u001b[0;36mBunch.__getattr__\u001b[1;34m(self, key)\u001b[0m\n\u001b[0;32m    116\u001b[0m \u001b[38;5;28;01mtry\u001b[39;00m:\n\u001b[1;32m--> 117\u001b[0m     \u001b[38;5;28;01mreturn\u001b[39;00m \u001b[38;5;28;43mself\u001b[39;49m\u001b[43m[\u001b[49m\u001b[43mkey\u001b[49m\u001b[43m]\u001b[49m\n\u001b[0;32m    118\u001b[0m \u001b[38;5;28;01mexcept\u001b[39;00m \u001b[38;5;167;01mKeyError\u001b[39;00m:\n",
      "\u001b[1;31mKeyError\u001b[0m: 'isnull'",
      "\nDuring handling of the above exception, another exception occurred:\n",
      "\u001b[1;31mAttributeError\u001b[0m                            Traceback (most recent call last)",
      "Input \u001b[1;32mIn [12]\u001b[0m, in \u001b[0;36m<cell line: 1>\u001b[1;34m()\u001b[0m\n\u001b[1;32m----> 1\u001b[0m \u001b[43mir\u001b[49m\u001b[38;5;241;43m.\u001b[39;49m\u001b[43misnull\u001b[49m()\n",
      "File \u001b[1;32mC:\\ProgramData\\Anaconda3\\lib\\site-packages\\sklearn\\utils\\__init__.py:119\u001b[0m, in \u001b[0;36mBunch.__getattr__\u001b[1;34m(self, key)\u001b[0m\n\u001b[0;32m    117\u001b[0m     \u001b[38;5;28;01mreturn\u001b[39;00m \u001b[38;5;28mself\u001b[39m[key]\n\u001b[0;32m    118\u001b[0m \u001b[38;5;28;01mexcept\u001b[39;00m \u001b[38;5;167;01mKeyError\u001b[39;00m:\n\u001b[1;32m--> 119\u001b[0m     \u001b[38;5;28;01mraise\u001b[39;00m \u001b[38;5;167;01mAttributeError\u001b[39;00m(key)\n",
      "\u001b[1;31mAttributeError\u001b[0m: isnull"
     ]
    }
   ],
   "source": [
    "ir.isnull()"
   ]
  },
  {
   "cell_type": "code",
   "execution_count": null,
   "id": "55ce2daa",
   "metadata": {},
   "outputs": [],
   "source": [
    "import math\n",
    "\n",
    "class Complex(object):\n",
    "    def __init__(self, real, imaginary):\n",
    "        \n",
    "    def __add__(self, no):\n",
    "        \n",
    "    def __sub__(self, no):\n",
    "        \n",
    "    def __mul__(self, no):\n",
    "\n",
    "    def __truediv__(self, no):\n",
    "\n",
    "    def mod(self):\n",
    "\n",
    "    def __str__(self):\n",
    "        if self.imaginary == 0:\n",
    "            result = \"%.2f+0.00i\" % (self.real)\n",
    "        elif self.real == 0:\n",
    "            if self.imaginary >= 0:\n",
    "                result = \"0.00+%.2fi\" % (self.imaginary)\n",
    "            else:\n",
    "                result = \"0.00-%.2fi\" % (abs(self.imaginary))\n",
    "        elif self.imaginary > 0:\n",
    "            result = \"%.2f+%.2fi\" % (self.real, self.imaginary)\n",
    "        else:\n",
    "            result = \"%.2f-%.2fi\" % (self.real, abs(self.imaginary))\n",
    "        return result\n",
    "\n",
    "if __name__ == '__main__':"
   ]
  },
  {
   "cell_type": "code",
   "execution_count": 4,
   "id": "c8439917",
   "metadata": {},
   "outputs": [],
   "source": [
    "import pandas as pd\n",
    "import numpy as np\n",
    "import math"
   ]
  },
  {
   "cell_type": "code",
   "execution_count": 10,
   "id": "71dea6bf",
   "metadata": {},
   "outputs": [
    {
     "name": "stdout",
     "output_type": "stream",
     "text": [
      "4\n",
      "5 -4\n",
      "9-4i\n",
      "-1+4i\n",
      "20-16i\n",
      "-1.25-1.0i\n",
      "4.0+0.00i\n",
      "6.4+0.00i\n"
     ]
    }
   ],
   "source": [
    "a=input().split(' ')\n",
    "\n",
    "b=input().split(' ')\n",
    "\n",
    "if len(a)==1:\n",
    "    a.append(0)\n",
    "else: \n",
    "    a[1]=a[1]\n",
    "    \n",
    "if len(b)==1:\n",
    "    b.append(0)\n",
    "else: \n",
    "    b[1]=b[1]\n",
    "    \n",
    "real=[a[0],b[0]]\n",
    "img=[a[1],b[1]]\n",
    "\n",
    "\n",
    "class calculations():\n",
    "    def __init__(self, r, i):\n",
    "        self.r=r\n",
    "        self.i=i\n",
    "    \n",
    "    def addition(self):\n",
    "        add_r=int(self.r[0])+int(self.r[1])\n",
    "        add_i=int(self.i[0])+int(self.i[1])\n",
    "        if add_i != 0 and \"-\" not in str(add_i):\n",
    "            print('{}+{}i'.format(add_r, add_i))\n",
    "        elif add_i != 0 and \"-\" in str(add_i):\n",
    "            print('{}{}i'.format(add_r, add_i))\n",
    "        else:\n",
    "            print('{}+0.00i'.format(add_r, add_i))\n",
    "    \n",
    "    def substraction(self):\n",
    "        sub_r=int(self.r[0])-int(self.r[1])\n",
    "        sub_i=int(self.i[0])-int(self.i[1])\n",
    "        if sub_i != 0 and \"-\" not in str(sub_i):\n",
    "            print('{}+{}i'.format(sub_r, sub_i))\n",
    "        elif sub_i != 0 and \"-\" in str(sub_i):\n",
    "            print('{}{}i'.format(sub_r, sub_i))\n",
    "        else:\n",
    "            print('{}+0.00i'.format(sub_r, sub_i))\n",
    "            \n",
    "    def multiplication(self):\n",
    "        mul_r=int(self.r[0])*int(self.i[0])-int(self.r[1])*int(self.i[1])\n",
    "        mul_i=int(self.r[0])*int(self.i[1])+int(self.r[1])*int(self.i[0])\n",
    "        if mul_i != 0 and \"-\" not in str(mul_i):\n",
    "            print('{}+{}i'.format(mul_r, mul_i))\n",
    "        elif mul_i != 0 and \"-\" in str(mul_i):\n",
    "            print('{}{}i'.format(mul_r, mul_i))\n",
    "        else:\n",
    "            print('{}+0.00i'.format(mul_r, mul_i))\n",
    "            \n",
    "    def division(self):\n",
    "        div_r=round((int(self.r[0])*int(self.i[0])+int(self.r[1])*int(self.i[1]))/(int(self.i[0])**2+int(self.i[1])**2),2)\n",
    "        div_i=round((int(self.r[1])*int(self.i[0])+int(self.r[0])*int(self.i[1]))/(int(self.i[0])**2+int(self.i[1])**2),2)\n",
    "        if div_i != 0 and \"-\" not in str(div_i):\n",
    "            print('{}+{}i'.format(div_r, div_i))\n",
    "        elif div_i != 0 and \"-\" in str(div_i):\n",
    "            print('{}{}i'.format(div_r, div_i))\n",
    "        else:\n",
    "            print('{}+0.00i'.format(div_r, div_i))\n",
    "    def mod(self):\n",
    "        mod_n=round(math.sqrt(int((self.r))**2+int((self.i))**2),2)\n",
    "        print('{}+0.00i'.format(mod_n))\n",
    "\n",
    "def call(real, img):\n",
    "    a= calculations(real, img)\n",
    "    a.addition()\n",
    "               \n",
    "    s= calculations(real, img)\n",
    "    s.substraction()\n",
    "               \n",
    "    m= calculations(real, img)\n",
    "    m.multiplication()\n",
    "\n",
    "    d=calculations(real, img)\n",
    "    d.division()\n",
    "\n",
    "    m=calculations(real[0],img[0])\n",
    "    m.mod()\n",
    "    \n",
    "    m=calculations(real[1],img[1])\n",
    "    m.mod()\n",
    "    \n",
    "call(real, img)"
   ]
  },
  {
   "cell_type": "code",
   "execution_count": 7,
   "id": "cdccd6fc",
   "metadata": {},
   "outputs": [
    {
     "name": "stdout",
     "output_type": "stream",
     "text": [
      "3 -3\n",
      "4 -3\n",
      "<class 'str'>\n",
      "2\n"
     ]
    }
   ],
   "source": [
    "a=input().split(' ')\n",
    "\n",
    "b=input().split(' ')\n",
    "\n",
    "real=[a[0],b[0]]\n",
    "img=[a[1],b[1]]\n",
    "print(type(a[0]))\n",
    "print(len(real))"
   ]
  },
  {
   "cell_type": "code",
   "execution_count": null,
   "id": "d7c44d05",
   "metadata": {},
   "outputs": [],
   "source": []
  }
 ],
 "metadata": {
  "kernelspec": {
   "display_name": "Python 3 (ipykernel)",
   "language": "python",
   "name": "python3"
  },
  "language_info": {
   "codemirror_mode": {
    "name": "ipython",
    "version": 3
   },
   "file_extension": ".py",
   "mimetype": "text/x-python",
   "name": "python",
   "nbconvert_exporter": "python",
   "pygments_lexer": "ipython3",
   "version": "3.9.12"
  }
 },
 "nbformat": 4,
 "nbformat_minor": 5
}

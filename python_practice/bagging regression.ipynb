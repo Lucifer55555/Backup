{
 "cells": [
  {
   "cell_type": "code",
   "execution_count": 29,
   "id": "a9458549",
   "metadata": {},
   "outputs": [],
   "source": [
    "from sklearn import datasets\n",
    "import warnings\n",
    "warnings.filterwarnings('ignore')"
   ]
  },
  {
   "cell_type": "code",
   "execution_count": 30,
   "id": "0f1d674c",
   "metadata": {},
   "outputs": [
    {
     "name": "stdout",
     "output_type": "stream",
     "text": [
      "dataset features names :['CRIM' 'ZN' 'INDUS' 'CHAS' 'NOX' 'RM' 'AGE' 'DIS' 'RAD' 'TAX' 'PTRATIO'\n",
      " 'B' 'LSTAT']\n",
      "dataset features size:(506, 13)\n",
      "dataset target size :(506,)\n"
     ]
    }
   ],
   "source": [
    "boston=datasets.load_boston()\n",
    "x_boston, y_boston= boston.data, boston.target\n",
    "print('dataset features names :'+ str(boston.feature_names))\n",
    "print('dataset features size:'+ str(boston.data.shape))\n",
    "print('dataset target size :'+str(boston.target.shape))"
   ]
  },
  {
   "cell_type": "code",
   "execution_count": 31,
   "id": "e51d9509",
   "metadata": {},
   "outputs": [],
   "source": [
    "from sklearn.linear_model import LinearRegression\n",
    "from sklearn.neighbors import KNeighborsRegressor\n",
    "from sklearn.model_selection import GridSearchCV\n",
    "from sklearn.tree import DecisionTreeRegressor\n",
    "from sklearn.metrics import r2_score"
   ]
  },
  {
   "cell_type": "code",
   "execution_count": 32,
   "id": "c2fa98f5",
   "metadata": {},
   "outputs": [],
   "source": [
    "from sklearn.model_selection import train_test_split"
   ]
  },
  {
   "cell_type": "code",
   "execution_count": 33,
   "id": "0f4116a5",
   "metadata": {},
   "outputs": [
    {
     "name": "stdout",
     "output_type": "stream",
     "text": [
      "train/test sizes :  (404, 13) (102, 13) (404,) (102,)\n"
     ]
    }
   ],
   "source": [
    "x_train, x_test, y_train, y_test=train_test_split(x_boston, y_boston, test_size=0.2, random_state=123)\n",
    "print('train/test sizes : ', x_train.shape, x_test.shape, y_train.shape, y_test.shape)"
   ]
  },
  {
   "cell_type": "code",
   "execution_count": 35,
   "id": "2de321c1",
   "metadata": {},
   "outputs": [],
   "source": [
    "lr=LinearRegression()\n",
    "dt=DecisionTreeRegressor()\n",
    "knn=KNeighborsRegressor()"
   ]
  },
  {
   "cell_type": "code",
   "execution_count": 36,
   "id": "c218907c",
   "metadata": {},
   "outputs": [
    {
     "data": {
      "text/plain": [
       "KNeighborsRegressor()"
      ]
     },
     "execution_count": 36,
     "metadata": {},
     "output_type": "execute_result"
    }
   ],
   "source": [
    "lr.fit(x_train, y_train)\n",
    "dt.fit(x_train, y_train)\n",
    "knn.fit(x_train, y_train)"
   ]
  },
  {
   "cell_type": "code",
   "execution_count": 37,
   "id": "b5e81424",
   "metadata": {},
   "outputs": [],
   "source": [
    "y_predlr=lr.predict(x_test)\n",
    "y_preddt=dt.predict(x_test)\n",
    "y_predknn=knn.predict(x_test)"
   ]
  },
  {
   "cell_type": "code",
   "execution_count": 38,
   "id": "506f279d",
   "metadata": {},
   "outputs": [
    {
     "name": "stdout",
     "output_type": "stream",
     "text": [
      "r2 score for lr : 0.6592466510354097\n",
      "r2 score for dt : 0.44706671648178853\n",
      "r2 score for knn : 0.5475962186976784\n"
     ]
    }
   ],
   "source": [
    "print('r2 score for lr :', r2_score(y_test, y_predlr))\n",
    "print('r2 score for dt :', r2_score(y_test, y_preddt))\n",
    "print('r2 score for knn :', r2_score(y_test, y_predknn))"
   ]
  },
  {
   "cell_type": "markdown",
   "id": "bd9b8920",
   "metadata": {},
   "source": [
    "# Bagging with default hyperparameters\n"
   ]
  },
  {
   "cell_type": "code",
   "execution_count": 39,
   "id": "28b839e7",
   "metadata": {},
   "outputs": [],
   "source": [
    "from sklearn.ensemble import BaggingRegressor"
   ]
  },
  {
   "cell_type": "code",
   "execution_count": 40,
   "id": "2fe75dad",
   "metadata": {},
   "outputs": [
    {
     "data": {
      "text/plain": [
       "BaggingRegressor(random_state=1)"
      ]
     },
     "execution_count": 40,
     "metadata": {},
     "output_type": "execute_result"
    }
   ],
   "source": [
    "bag_regressor=BaggingRegressor(random_state=1)\n",
    "bag_regressor.fit(x_train, y_train)"
   ]
  },
  {
   "cell_type": "code",
   "execution_count": 47,
   "id": "8bdc0549",
   "metadata": {},
   "outputs": [
    {
     "name": "stdout",
     "output_type": "stream",
     "text": [
      "Training coefficient of R^2 :0.980\n",
      "Test coefficient of R^2 :0.818\n"
     ]
    }
   ],
   "source": [
    "y_pred=bag_regressor.predict(x_test)\n",
    "\n",
    "print('Training coefficient of R^2 :%.3f'%bag_regressor.score(x_train, y_train))\n",
    "print('Test coefficient of R^2 :%.3f'%bag_regressor.score(x_test, y_test))"
   ]
  },
  {
   "cell_type": "code",
   "execution_count": 48,
   "id": "7f02e6d0",
   "metadata": {},
   "outputs": [],
   "source": [
    "from sklearn.model_selection import GridSearchCV"
   ]
  },
  {
   "cell_type": "code",
   "execution_count": 52,
   "id": "8f1ab62b",
   "metadata": {},
   "outputs": [],
   "source": [
    "params={'base_estimator':[lr,dt,knn],\n",
    "       'n_estimators':[20,50,100,200],\n",
    "       'max_samples':[0.5,0.8,1.0],\n",
    "       'max_features':[0.5,1.0],\n",
    "       'bootstrap':[True,False],\n",
    "       'bootstrap_features':[False,True]}\n",
    "bagging_regressor_grid=GridSearchCV(BaggingRegressor(random_state=1, n_jobs=-1), param_grid=params, cv=5, n_jobs=-1, verbose=1)"
   ]
  },
  {
   "cell_type": "code",
   "execution_count": 53,
   "id": "eb25802e",
   "metadata": {},
   "outputs": [
    {
     "name": "stdout",
     "output_type": "stream",
     "text": [
      "Fitting 5 folds for each of 288 candidates, totalling 1440 fits\n"
     ]
    },
    {
     "data": {
      "text/plain": [
       "GridSearchCV(cv=5, estimator=BaggingRegressor(n_jobs=-1, random_state=1),\n",
       "             n_jobs=-1,\n",
       "             param_grid={'base_estimator': [LinearRegression(),\n",
       "                                            DecisionTreeRegressor(),\n",
       "                                            KNeighborsRegressor()],\n",
       "                         'bootstrap': [True, False],\n",
       "                         'bootstrap_features': [False, True],\n",
       "                         'max_features': [0.5, 1.0],\n",
       "                         'max_samples': [0.5, 0.8, 1.0],\n",
       "                         'n_estimators': [20, 50, 100, 200]},\n",
       "             verbose=1)"
      ]
     },
     "execution_count": 53,
     "metadata": {},
     "output_type": "execute_result"
    }
   ],
   "source": [
    "bagging_regressor_grid.fit(x_train, y_train)"
   ]
  },
  {
   "cell_type": "code",
   "execution_count": 55,
   "id": "d4b79531",
   "metadata": {},
   "outputs": [
    {
     "name": "stdout",
     "output_type": "stream",
     "text": [
      "Train R^2 score : 0.983\n",
      "Test R^2 score : 0.793\n",
      "best R^2 score through grid search : 0.863\n",
      "best parametes through grid search : {'base_estimator': DecisionTreeRegressor(), 'bootstrap': True, 'bootstrap_features': False, 'max_features': 1.0, 'max_samples': 1.0, 'n_estimators': 100}\n"
     ]
    }
   ],
   "source": [
    "print('Train R^2 score : %.3f'%bagging_regressor_grid.best_estimator_.score(x_train,y_train))\n",
    "print('Test R^2 score : %.3f'%bagging_regressor_grid.best_estimator_.score(x_test,y_test))\n",
    "print('best R^2 score through grid search : %.3f'%bagging_regressor_grid.best_score_)\n",
    "print('best parametes through grid search :' ,bagging_regressor_grid.best_params_)"
   ]
  },
  {
   "cell_type": "code",
   "execution_count": null,
   "id": "caa36e88",
   "metadata": {},
   "outputs": [],
   "source": []
  }
 ],
 "metadata": {
  "kernelspec": {
   "display_name": "Python 3 (ipykernel)",
   "language": "python",
   "name": "python3"
  },
  "language_info": {
   "codemirror_mode": {
    "name": "ipython",
    "version": 3
   },
   "file_extension": ".py",
   "mimetype": "text/x-python",
   "name": "python",
   "nbconvert_exporter": "python",
   "pygments_lexer": "ipython3",
   "version": "3.9.12"
  }
 },
 "nbformat": 4,
 "nbformat_minor": 5
}

{
 "cells": [
  {
   "cell_type": "markdown",
   "metadata": {
    "id": "w5MN0PRup-Z7"
   },
   "source": []
  },
  {
   "cell_type": "markdown",
   "metadata": {
    "id": "iKAWX0vSqQGT"
   },
   "source": [
    "**Question-1:**\n",
    "\n",
    "You have to find and print the smallest element of the list given as input. \n",
    "\n",
    "----------------------------------------------------------------------\n",
    "Input:\n",
    "A non-empty list of integers.\n",
    "\n",
    "Output:\n",
    "The smallest integer of the input list.\n",
    "\n",
    "----------------------------------------------------------------------\n",
    "Sample input:\n",
    "[2, -3, 0, 7, 21]\n",
    "\n",
    "Sample output:\n",
    "-3"
   ]
  },
  {
   "cell_type": "markdown",
   "metadata": {
    "id": "yaqUNoVUqZ50"
   },
   "source": []
  },
  {
   "cell_type": "code",
   "execution_count": 11,
   "metadata": {
    "colab": {
     "base_uri": "https://localhost:8080/"
    },
    "id": "qsGTQ-rYqaj9",
    "outputId": "60c79504-b931-44ac-d3da-d62d2405eebc"
   },
   "outputs": [
    {
     "name": "stdout",
     "output_type": "stream",
     "text": [
      "[1,2,3,4,5,0]\n",
      "0\n"
     ]
    }
   ],
   "source": [
    "#input have been taken for you here\n",
    "a=eval(input())\n",
    "x=a[0]\n",
    "for i in a:\n",
    "    if i<=x:\n",
    "        x=i\n",
    "print(x)"
   ]
  },
  {
   "cell_type": "code",
   "execution_count": 12,
   "metadata": {},
   "outputs": [
    {
     "name": "stdout",
     "output_type": "stream",
     "text": [
      "[4,34,3,5,6,7,2,0,-1]\n",
      "-1\n"
     ]
    }
   ],
   "source": [
    "# another solution can be using sort\n",
    "\n",
    "a=eval(input())\n",
    "a.sort()\n",
    "print(a[0])"
   ]
  },
  {
   "cell_type": "markdown",
   "metadata": {
    "id": "1PJKMhgtq_Zk"
   },
   "source": [
    "**Question-2:**\n",
    "\n",
    "Finding the average of the data and comparing it with other values is often encountered while analysing the data. Here you will do the same thing. The data will be provided to you in a list. You will also be given a number check.  You will return whether the number check is above average or no.\n",
    "\n",
    "----------------------------------------------------------------------\n",
    "Input:\n",
    "A list with two elements:\n",
    "The first element will be the list of data of integers and\n",
    "The second element will be an integer check.\n",
    "\n",
    "Output:\n",
    "True if check is above average and False otherwise\n",
    "\n",
    "----------------------------------------------------------------------\n",
    "Sample input:\n",
    "[ [2,4,6,8,10],  4]\n",
    "\n",
    "Sample output:\n",
    "False\n",
    "\n",
    "----------------------------------------------------------------------\n",
    "Sample input:\n",
    "[ [2,4,6,8,-10],  4]\n",
    "\n",
    "Sample output:\n",
    "True"
   ]
  },
  {
   "cell_type": "code",
   "execution_count": 18,
   "metadata": {
    "colab": {
     "base_uri": "https://localhost:8080/"
    },
    "id": "qdMKgw98rICO",
    "outputId": "fbedc90a-b50f-43a1-89b8-962926e46742"
   },
   "outputs": [
    {
     "name": "stdout",
     "output_type": "stream",
     "text": [
      "[ [2,4,6,8,-10], 4]\n",
      "True\n"
     ]
    }
   ],
   "source": [
    "#Take input here\n",
    "a=eval(input())\n",
    "avg=sum(a[0])/len(a[0])\n",
    "if avg<a[1]:\n",
    "        print(True)\n",
    "else:\n",
    "        print(False)\n"
   ]
  },
  {
   "cell_type": "markdown",
   "metadata": {
    "id": "NPcOl3ISr0NT"
   },
   "source": [
    "**Question-3:**\n",
    "\n",
    "Write a code to remove duplicate elements from a list\n",
    "\n",
    "\n",
    "----------------------------------------------------------------------\n",
    "\n",
    "Input:\n",
    "\n",
    "[12, 36, 56, 36, 36, 50, 56, 12] \n",
    "\n",
    "\n",
    "Output:\n",
    "\n",
    "[12, 36, 56, 50, 12] \n"
   ]
  },
  {
   "cell_type": "code",
   "execution_count": 17,
   "metadata": {
    "colab": {
     "base_uri": "https://localhost:8080/"
    },
    "id": "IlNGwgCOr9DF",
    "outputId": "d8c1421b-25c2-4361-b271-afdfa4e587c2"
   },
   "outputs": [
    {
     "name": "stdout",
     "output_type": "stream",
     "text": [
      "12, 36, 56, 36, 36, 50, 56, 12\n",
      "[12, 36, 56, 50]\n"
     ]
    }
   ],
   "source": [
    "l=input()\n",
    "list1=[x for x in l.split(',')]\n",
    "final_list=[]\n",
    "for i in list1:\n",
    "    if int(i) not in final_list:\n",
    "        final_list.append(int(i))\n",
    "    else: continue\n",
    "print(final_list)"
   ]
  },
  {
   "cell_type": "markdown",
   "metadata": {
    "id": "7ABPjz0XsMzN"
   },
   "source": [
    "**Question-4:**\n",
    "\n",
    "You are planning to go to your friend's wedding and you have long events all month, lasting at least a few days. You have the start and end dates of events and your task is to find out events overlapping with the wedding date.\n",
    "\n",
    "The code for taking input has already been written for you, please don't modify that, but do read and try to understand the way input has been taken. You will be asked to take input on your own for most of the problems here onwards. Taking data in a suitable format is an important skill for a Data Scientist.\n",
    "\n",
    "----------------------------------------------------------------------\n",
    "Input:\n",
    "The input will contain a list of lists where each sub-list has only two elements representing the start and end date of an event, the start date will be less than or equal to the end date. The next line of input will have a wedding date. \n",
    "\n",
    "Output:\n",
    "The output should have the number of events overlapping with the wedding date.\n",
    "\n",
    "----------------------------------------------------------------------\n",
    "Sample input:\n",
    "\n",
    "[ [29,31], [23,26], [24,25] ]\n",
    "\n",
    "24\n",
    "\n",
    "Sample output:\n",
    "2\n",
    "\n",
    "Explanation:\n",
    "There are three events in the month.\n",
    "Event 1= from date 29 to 31\n",
    "Event 2= from date 23 to 26\n",
    "Event 3= from date 24 to 25\n",
    "Wedding is on 24. This means it will clash with Event 3 and Event 2, that is two events. The output is therefore 2.\n",
    "\n",
    "----------------------------------------------------------------------\n",
    "Sample input:\n",
    "\n",
    "[ [1, 4], [7, 10], [8, 8], [14, 23] ]\n",
    "\n",
    "26\n",
    "\n",
    "Sample output:\n",
    "0\n",
    "\n"
   ]
  },
  {
   "cell_type": "code",
   "execution_count": 9,
   "metadata": {
    "colab": {
     "base_uri": "https://localhost:8080/"
    },
    "id": "YBT93c-VsSIL",
    "outputId": "c871662f-f585-46d5-a053-b3beece60124"
   },
   "outputs": [
    {
     "name": "stdout",
     "output_type": "stream",
     "text": [
      "[  [24,26],[22,24],[25,29],[24,37]  ]\n",
      "24\n"
     ]
    },
    {
     "data": {
      "text/plain": [
       "list"
      ]
     },
     "execution_count": 9,
     "metadata": {},
     "output_type": "execute_result"
    }
   ],
   "source": [
    "s=eval(input())\n",
    "day=int(input())\n",
    "type(s)"
   ]
  },
  {
   "cell_type": "code",
   "execution_count": 10,
   "metadata": {
    "scrolled": true
   },
   "outputs": [
    {
     "name": "stdout",
     "output_type": "stream",
     "text": [
      "3\n"
     ]
    }
   ],
   "source": [
    "summ=0\n",
    "for i in s:\n",
    "    if day in i:\n",
    "        summ=summ+1\n",
    "print(summ)"
   ]
  },
  {
   "cell_type": "code",
   "execution_count": null,
   "metadata": {},
   "outputs": [],
   "source": []
  },
  {
   "cell_type": "code",
   "execution_count": null,
   "metadata": {},
   "outputs": [],
   "source": []
  },
  {
   "cell_type": "code",
   "execution_count": null,
   "metadata": {},
   "outputs": [],
   "source": []
  },
  {
   "cell_type": "markdown",
   "metadata": {
    "id": "1MKFtqN4Ir5q"
   },
   "source": [
    "**Question-5:**\n",
    "\n",
    "You will be given two positive integers m and n. You have to make a list of lists (which can be visualised as a matrix) of size m*n, that is m sublists (rows), with each sublists having n integers (columns). The matrix should be such that it should have 1 on the border and 0 everywhere else. See sample input and output for more clarification.\n",
    "\n",
    "----------------------------------------------------------------------\n",
    "Input:\n",
    "Two integers separated by a space\n",
    "\n",
    "Output:\n",
    "A list of lists of size m*n printed like matrix as shown in the sample output.\n",
    "\n",
    "----------------------------------------------------------------------\n",
    "Sample input:\n",
    "4,5\n",
    "\n",
    "Sample output:\n",
    "\n",
    "[1, 1, 1, 1, 1]\n",
    "\n",
    "[1, 0, 0, 0, 1]\n",
    "\n",
    "[1, 0, 0, 0, 1]\n",
    "\n",
    "[1, 1, 1, 1, 1]\n",
    "\n",
    "----------------------------------------------------------------------\n",
    "Sample input:\n",
    "3,3\n",
    "\n",
    "Sample output:\n",
    "\n",
    "[1, 1, 1]\n",
    "\n",
    "[1, 0, 1]\n",
    "\n",
    "[1, 1, 1]\n",
    "\n",
    "----------------------------------------------------------------------\n",
    "Sample input:\n",
    "3,2\n",
    "\n",
    "Sample output:\n",
    "\n",
    "[1, 1]\n",
    "\n",
    "[1, 1]\n",
    "\n",
    "[1, 1]\n"
   ]
  },
  {
   "cell_type": "code",
   "execution_count": null,
   "metadata": {
    "colab": {
     "base_uri": "https://localhost:8080/"
    },
    "id": "RSiTGjDDI-7m",
    "outputId": "da501f60-667d-4f30-e027-0bc2a09d0304"
   },
   "outputs": [
    {
     "name": "stdout",
     "output_type": "stream",
     "text": [
      "4,5\n",
      "[1, 1, 1, 1, 1]\n",
      "[1, 0, 0, 0, 1]\n",
      "[1, 0, 0, 0, 1]\n",
      "[1, 1, 1, 1, 1]\n"
     ]
    }
   ],
   "source": []
  },
  {
   "cell_type": "markdown",
   "metadata": {
    "id": "RV0yPJG-PGZM"
   },
   "source": [
    "**Question-6:**\n",
    "\n",
    "Write a Python program to divide a given list into chunks of size k.\n",
    "\n",
    "The number of elements in the list need not to be divisible by k.\n",
    "For example, if you want to divide the list [1,2,3,4,5,6,7] into chunk size k=4, then the first chunk will be [1,2,3,4] and the second one will have [5,6,7]. i.e. the last chunk need not have k elements.\n",
    "The input will have two lines, the first line would have the list and the second line would have the value of k.(the code for taking input has already been written, you should not change that)\n",
    "The final output should have the list chunks in different lines.\n",
    "\n",
    "Sample Input:\n",
    "\n",
    "[[1,2,3,4,5,6,7,8,9], 3]\n",
    "\n",
    "Sample Output:\n",
    "\n",
    "[1, 2, 3]\n",
    "[4, 5, 6]\n",
    "[7, 8, 9]"
   ]
  },
  {
   "cell_type": "code",
   "execution_count": null,
   "metadata": {
    "colab": {
     "base_uri": "https://localhost:8080/"
    },
    "id": "rwVyMmqoPOJ3",
    "outputId": "268cc120-90af-435d-97df-cd4dd46c1e14"
   },
   "outputs": [
    {
     "name": "stdout",
     "output_type": "stream",
     "text": [
      "[[1,2,3,4,5,6,7,8,9], 3]\n",
      "[1, 2, 3]\n",
      "[4, 5, 6]\n",
      "[7, 8, 9]\n"
     ]
    }
   ],
   "source": []
  },
  {
   "cell_type": "markdown",
   "metadata": {
    "id": "I2uR6LFqQs6W"
   },
   "source": [
    "**Question - 7**\n",
    "\n",
    "Given a list of numbers, find the second largest number in the list.\n",
    "\n",
    "Note: There might be repeated numbers in the list. If there is only one number present in the list, return 'not present'.\n",
    "\n",
    "Examples:\n",
    "\n",
    "Input 1:\n",
    "\n",
    "[7, 2, 0, 9, -1, 8]\n",
    "\n",
    "Output 1:\n",
    "\n",
    "8\n",
    "\n",
    "Input 2:\n",
    "\n",
    "[3, 1, 4, 4, 5, 5, 5, 0, 2, 2]\n",
    "\n",
    "Output 2:\n",
    "\n",
    "4\n",
    "\n",
    "Input 2:\n",
    "\n",
    "[6, 6, 6, 6, 6]\n",
    "\n",
    "Output 2:\n",
    "\n",
    "not present"
   ]
  },
  {
   "cell_type": "code",
   "execution_count": null,
   "metadata": {
    "colab": {
     "base_uri": "https://localhost:8080/"
    },
    "id": "to7W1H3eQ-ea",
    "outputId": "73d7407e-21f5-4755-ef1c-f6cd0d92846c"
   },
   "outputs": [
    {
     "name": "stdout",
     "output_type": "stream",
     "text": [
      "[3, 1, 4, 4, 5, 5, 5, 0, 2, 2]\n",
      "4\n"
     ]
    }
   ],
   "source": []
  },
  {
   "cell_type": "markdown",
   "metadata": {
    "id": "ChlXvIQZRVjW"
   },
   "source": [
    "**Question - 8**\n",
    "\n",
    "Given a positive integer n. Print the pattern as shown in sample outputs.\n",
    "\n",
    "A code has already been provided. You have to understand the logic of the code on your own and try and make changes to the code so that it gives correct output.\n",
    "\n",
    "\n",
    "\n",
    "Input: A positive integer n\n",
    "\n",
    "1<= n <=9\n",
    "\n",
    "\n",
    "\n",
    "Output: Pattern as shown in examples below\n",
    "\n",
    "\n",
    "\n",
    "\n",
    "\n",
    "Sample input:\n",
    "\n",
    "4\n",
    "\n",
    "\n",
    "\n",
    "Sample output:\n",
    "\n",
    "4444444\n",
    "\n",
    "4333334\n",
    "\n",
    "4322234\n",
    "\n",
    "4321234\n",
    "\n",
    "4322234\n",
    "\n",
    "4333334\n",
    "\n",
    "4444444\n",
    "\n",
    "\n",
    "\n",
    "Sample input:\n",
    "\n",
    "5\n",
    "\n"
   ]
  },
  {
   "cell_type": "code",
   "execution_count": null,
   "metadata": {
    "colab": {
     "base_uri": "https://localhost:8080/"
    },
    "id": "cvxUytsgRcw_",
    "outputId": "bcfed65f-ed56-440f-b7c9-536fad9d9d9a"
   },
   "outputs": [
    {
     "name": "stdout",
     "output_type": "stream",
     "text": [
      "4\n",
      "4444444\n",
      "4333334\n",
      "4322234\n",
      "4321234\n",
      "4322234\n",
      "4333334\n",
      "4444444\n"
     ]
    }
   ],
   "source": []
  },
  {
   "cell_type": "markdown",
   "metadata": {
    "id": "O8efzrIFApNd"
   },
   "source": [
    "**Question-9**\n",
    "\n",
    "Write a code to get the first element from each nested list of a list\n",
    "\n",
    "Input:\n",
    "\n",
    "[[15, 78, 4],['C#',80,7],['Go','Rust','C++'],['Python',12]]\n",
    "\n",
    "\n",
    "Output:\n",
    "\n",
    "[15, 'C#', 'Go', 'Python']\n"
   ]
  },
  {
   "cell_type": "code",
   "execution_count": null,
   "metadata": {
    "colab": {
     "base_uri": "https://localhost:8080/"
    },
    "id": "xCLIWRopAzmQ",
    "outputId": "641dc1b9-8b1c-4b55-a8e5-ed8ea9ee0b9d"
   },
   "outputs": [
    {
     "name": "stdout",
     "output_type": "stream",
     "text": [
      "[[15, 78, 4],['C#',80,7],['Go','Rust','C++'],['Python',12]]\n",
      "first element of each nested list  =  [15, 'C#', 'Go', 'Python']\n"
     ]
    }
   ],
   "source": []
  },
  {
   "cell_type": "markdown",
   "metadata": {
    "id": "MIwCRdtxfMWr"
   },
   "source": [
    "**Question-10:**\n",
    "\n",
    "Return a set of elements present in Set A or B, but not both\n",
    "\n",
    "\n",
    "Input: \n",
    "\n",
    "setA = {10, 20, 30, 40, 50}\n",
    "\n",
    "setB = {30, 40, 50, 60, 70}\n",
    "\n",
    "\n",
    "Ouput:\n",
    "\n",
    "{20, 70, 10, 60}"
   ]
  },
  {
   "cell_type": "code",
   "execution_count": 12,
   "metadata": {
    "colab": {
     "base_uri": "https://localhost:8080/"
    },
    "id": "qRauPdd5fcHt",
    "outputId": "828418fa-1957-401e-e058-1ae9297123f7"
   },
   "outputs": [
    {
     "name": "stdout",
     "output_type": "stream",
     "text": [
      "10,20,30,40,50\n",
      "30,40,50,60,70\n",
      "{'10', '20', '50', '30', '40'}\n",
      "{'50', '70', '30', '60', '40'}\n",
      "{'10', '20', '50', '70', '30', '60', '40'}\n",
      "{'30', '40', '50'}\n",
      "{'70', '20', '10', '60'}\n"
     ]
    }
   ],
   "source": [
    "i=input()\n",
    "j=input()\n",
    "a={}\n",
    "b={}\n",
    "a={x for x in i.split(',')}\n",
    "print(a)\n",
    "b={x for x in j.split(',')}\n",
    "print(b)\n",
    "d=a.union(b)\n",
    "print(d)\n",
    "e=a.intersection(b)\n",
    "print(e)\n",
    "f=d.difference(e)\n",
    "print(f)"
   ]
  },
  {
   "cell_type": "code",
   "execution_count": 9,
   "metadata": {},
   "outputs": [
    {
     "name": "stdout",
     "output_type": "stream",
     "text": [
      "{40, 50, 30}\n"
     ]
    }
   ],
   "source": [
    "a = {10, 20, 30, 40, 50}\n",
    "b = {30, 40, 50, 60, 70}\n",
    "c=a.intersection(b)\n",
    "print(c)"
   ]
  },
  {
   "cell_type": "markdown",
   "metadata": {
    "id": "dNIY2sUy5ZX2"
   },
   "source": []
  },
  {
   "cell_type": "markdown",
   "metadata": {},
   "source": [
    "# Question from hackerrank"
   ]
  },
  {
   "cell_type": "code",
   "execution_count": null,
   "metadata": {},
   "outputs": [],
   "source": [
    "x = int(input())\n",
    "y = int(input())\n",
    "z = int(input())\n",
    "n = int(input())\n",
    "ans = []\n",
    "for i in range(0,x+1):\n",
    "    for j in range(0,y+1):\n",
    "        for k in range(0,z+1):\n",
    "            if(i+j+k!=n):\n",
    "                ans.append([i,j,k])\n",
    "print(ans)"
   ]
  },
  {
   "cell_type": "code",
   "execution_count": null,
   "metadata": {},
   "outputs": [],
   "source": [
    "x = int(input())\n",
    "y = int(input())\n",
    "z = int(input())\n",
    "n = int(input())\n",
    "ans=[[i,j,k] for i in range(0,x+1) for j in range(0,y+1) for k in range(0,z+1) if i+j+k!=n]\n",
    "print(ans)\n"
   ]
  },
  {
   "cell_type": "code",
   "execution_count": null,
   "metadata": {},
   "outputs": [],
   "source": [
    "n = int(input())\n",
    "arr = list(map(int, input().split()))[:n]\n",
    "\n",
    "arr.sort(reverse=True)\n",
    "result=arr[0]\n",
    "for i in arr:\n",
    "    if i==result:\n",
    "        result=i\n",
    "    elif i!=result:\n",
    "        result=i\n",
    "        break\n",
    "print(result)"
   ]
  },
  {
   "cell_type": "raw",
   "metadata": {},
   "source": [
    "Question : Given the names and grades for each student in a class of  students, store them in a nested list and print the name(s) of any student(s) having the second lowest grade.\n",
    "\n",
    "Note: If there are multiple students with the second lowest grade, order their names alphabetically and print each name on a new line.\n",
    "\n",
    "Example\n",
    "\n",
    "The ordered list of scores is , so the second lowest score is . There are two students with that score: . Ordered alphabetically, the names are printed as:\n",
    "\n",
    "alpha\n",
    "beta\n",
    "Input Format\n",
    "\n",
    "The first line contains an integer, , the number of students.\n",
    "The  subsequent lines describe each student over  lines.\n",
    "- The first line contains a student's name.\n",
    "- The second line contains their grade.\n",
    "\n",
    "Constraints\n",
    "\n",
    "There will always be one or more students having the second lowest grade.\n",
    "Output Format\n",
    "\n",
    "Print the name(s) of any student(s) having the second lowest grade in. If there are multiple students, order their names alphabetically and print each one on a new line.\n",
    "\n",
    "Sample Input 0\n",
    "\n",
    "5\n",
    "Harry\n",
    "37.21\n",
    "Berry\n",
    "37.21\n",
    "Tina\n",
    "37.2\n",
    "Akriti\n",
    "41\n",
    "Harsh\n",
    "39\n",
    "Sample Output 0\n",
    "\n",
    "Berry\n",
    "Harry\n",
    "Explanation 0\n",
    "\n",
    "There are  students in this class whose names and grades are assembled to build the following list:\n",
    "\n",
    "python students = [['Harry', 37.21], ['Berry', 37.21], ['Tina', 37.2], ['Akriti', 41], ['Harsh', 39]]\n",
    "\n",
    "The lowest grade of  belongs to Tina. The second lowest grade of  belongs to both Harry and Berry, so we order their names alphabetically and print each name on a new line."
   ]
  },
  {
   "cell_type": "code",
   "execution_count": 21,
   "metadata": {
    "scrolled": true
   },
   "outputs": [
    {
     "name": "stdout",
     "output_type": "stream",
     "text": [
      "3\n",
      "a\n",
      "10\n",
      "b\n",
      "20\n",
      "c\n",
      "20\n",
      "c\n",
      "b\n"
     ]
    }
   ],
   "source": [
    "scores=[]\n",
    "for i in range(int(input())):\n",
    "        name = input()\n",
    "        score = float(input())\n",
    "        scores.append([name,score])\n",
    "list1=[]\n",
    "for i in scores:\n",
    "    counter=0\n",
    "    for x in i:\n",
    "        counter=counter+1\n",
    "        if counter>1:\n",
    "            list1.append(x)\n",
    "            continue\n",
    "        else : pass\n",
    "\n",
    "list1.sort()\n",
    "\n",
    "counter1=0\n",
    "number=0\n",
    "for i in list1:\n",
    "    counter1=counter1+1\n",
    "    if counter1==1:\n",
    "        x=i\n",
    "        continue\n",
    "    elif i!=x:\n",
    "        number=i\n",
    "        break\n",
    "    else: pass\n",
    "\n",
    "final=[]   \n",
    "for i in scores:\n",
    "    if i[1]==number:\n",
    "        final.append(i[0])\n",
    "    else: continue\n",
    "final.sort()\n",
    "\n",
    "\n",
    "for i in final:\n",
    "    print(i)\n"
   ]
  },
  {
   "cell_type": "raw",
   "metadata": {},
   "source": [
    "Question : The provided code stub will read in a dictionary containing key/value pairs of name:[marks] for a list of students. Print the average of the marks array for the student name provided, showing 2 places after the decimal.\n",
    "\n",
    "Example\n",
    "\n",
    "\n",
    "\n",
    "\n",
    "The query_name is 'beta'. beta's average score is .\n",
    "\n",
    "Input Format\n",
    "\n",
    "The first line contains the integer , the number of students' records. The next  lines contain the names and marks obtained by a student, each value separated by a space. The final line contains query_name, the name of a student to query.\n",
    "\n",
    "Constraints\n",
    "\n",
    "Output Format\n",
    "\n",
    "Print one line: The average of the marks obtained by the particular student correct to 2 decimal places.\n",
    "\n",
    "Sample Input 0\n",
    "\n",
    "3\n",
    "Krishna 67 68 69\n",
    "Arjun 70 98 63\n",
    "Malika 52 56 60\n",
    "Malika\n",
    "Sample Output 0\n",
    "\n",
    "56.00\n",
    "Explanation 0\n",
    "\n",
    "Marks for Malika are  whose average is \n",
    "\n",
    "Sample Input 1\n",
    "\n",
    "2\n",
    "Harsh 25 26.5 28\n",
    "Anurag 26 28 30\n",
    "Harsh\n",
    "Sample Output 1\n",
    "\n",
    "26.50"
   ]
  },
  {
   "cell_type": "code",
   "execution_count": 28,
   "metadata": {},
   "outputs": [
    {
     "name": "stdout",
     "output_type": "stream",
     "text": [
      "3\n",
      "a 10 20 30\n",
      "b 30 40 50\n",
      "c 10 40 30\n",
      "{'a': [10.0, 20.0, 30.0], 'b': [30.0, 40.0, 50.0], 'c': [10.0, 40.0, 30.0]}\n",
      "a\n",
      "20.00\n"
     ]
    }
   ],
   "source": [
    "n=int(input())\n",
    "student_marks={}\n",
    "for i in range(n):\n",
    "    name, *line=input().split()\n",
    "    scores=list(map(float, line))\n",
    "    student_marks[name]=scores\n",
    "\n",
    "student_avg=input()\n",
    "marks=student_marks[student_avg]\n",
    "print(\"%.2f\" % (sum(marks)/len(marks)))"
   ]
  },
  {
   "cell_type": "markdown",
   "metadata": {},
   "source": [
    "Question :  A newly opened multinational brand has decided to base their company logo on the three most common characters in the company name. They are now trying out various combinations of company names and logos based on this condition. Given a string , which is the company name in lowercase letters, your task is to find the top three most common characters in the string.\n",
    "\n",
    "Print the three most common characters along with their occurrence count.\n",
    "Sort in descending order of occurrence count.\n",
    "If the occurrence count is the same, sort the characters in alphabetical order.\n",
    "For example, according to the conditions described above,\n",
    "\n",
    " would have it's logo with the letters .\n",
    "\n",
    "Input Format\n",
    "\n",
    "A single line of input containing the string .\n",
    "\n",
    "Constraints\n",
    "\n",
    " has at least  distinct characters\n",
    "Output Format\n",
    "\n",
    "Print the three most common characters along with their occurrence count each on a separate line.\n",
    "Sort output in descending order of occurrence count.\n",
    "If the occurrence count is the same, sort the characters in alphabetical order.\n",
    "\n",
    "Sample Input 0\n",
    "\n",
    "aabbbccde\n",
    "Sample Output 0\n",
    "\n",
    "b 3\n",
    "a 2\n",
    "c 2\n",
    "Explanation 0\n",
    "\n",
    "\n",
    "Here, b occurs  times. It is printed first.\n",
    "Both a and c occur  times. So, a is printed in the second line and c in the third line because a comes before c in the alphabet.\n",
    "\n",
    "Note: The string  has at least  distinct characters."
   ]
  },
  {
   "cell_type": "code",
   "execution_count": 30,
   "metadata": {},
   "outputs": [
    {
     "name": "stdout",
     "output_type": "stream",
     "text": [
      "google\n",
      "['e', 'g', 'g', 'l', 'o', 'o']\n"
     ]
    }
   ],
   "source": [
    "string=input()\n",
    "letters=[*string]\n",
    "letters.sort()\n",
    "print(letters)\n"
   ]
  }
 ],
 "metadata": {
  "colab": {
   "provenance": []
  },
  "kernelspec": {
   "display_name": "Python 3 (ipykernel)",
   "language": "python",
   "name": "python3"
  },
  "language_info": {
   "codemirror_mode": {
    "name": "ipython",
    "version": 3
   },
   "file_extension": ".py",
   "mimetype": "text/x-python",
   "name": "python",
   "nbconvert_exporter": "python",
   "pygments_lexer": "ipython3",
   "version": "3.9.12"
  }
 },
 "nbformat": 4,
 "nbformat_minor": 1
}

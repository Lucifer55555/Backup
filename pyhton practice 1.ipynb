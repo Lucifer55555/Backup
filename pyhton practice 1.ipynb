{
 "cells": [
  {
   "cell_type": "markdown",
   "metadata": {
    "id": "N_Y6ZjqHolcn"
   },
   "source": []
  },
  {
   "cell_type": "markdown",
   "metadata": {
    "id": "uGHKJxigPJCS"
   },
   "source": [
    "# **Question-1:**\n",
    "You are given two integer variables,  x and y. You have to swap the values stored in x and y.\n",
    "\n",
    "----------------------------------------------------------------------\n",
    "Input:\n",
    "Two numbers x and y separated by a comma.\n",
    "\n",
    "Output:\n",
    "Print 5 lines. The first two lines will have values of variables shown before swapping, and the last two lines will have values of variables shown after swapping. The third line will be blank.\n",
    "\n",
    "----------------------------------------------------------------------\n",
    "Sample input:\n",
    "20, 50\n",
    "\n",
    "Sample output:\n",
    "x before swapping: 20\n",
    "y before swapping: 50\n",
    "\n",
    "x after swapping: 50\n",
    "y after swapping: 20\n"
   ]
  },
  {
   "cell_type": "code",
   "execution_count": null,
   "metadata": {
    "colab": {
     "base_uri": "https://localhost:8080/"
    },
    "id": "9fU5SiqWPTkm",
    "outputId": "e63ec751-1ce7-4226-84f2-a77c7d706d67"
   },
   "outputs": [
    {
     "name": "stdout",
     "output_type": "stream",
     "text": [
      "20, 50\n",
      "x before swapping: 20\n",
      "y before swapping: 50\n",
      "\n",
      "x after swapping: 50\n",
      "y after swapping: 20\n"
     ]
    }
   ],
   "source": [
    "# Solution -1:\n",
    "\n",
    "## Take input using input()\n",
    "\n",
    "## input() takes input in form of the string\n"
   ]
  },
  {
   "cell_type": "markdown",
   "metadata": {
    "id": "3sJtRsGpQjfQ"
   },
   "source": [
    "**Question-2:**\n",
    "\n",
    "Given an integer, print whether it is Even or Odd.\n",
    "\n",
    "----------------------------------------------------------------------\n",
    "Input:\n",
    "An integer\n",
    "\n",
    "Output:\n",
    "'Even' or 'Odd'\n",
    "\n",
    "----------------------------------------------------------------------\n",
    "Sample input:\n",
    "3\n",
    "\n",
    "Sample output:\n",
    "Odd\n",
    "\n",
    "----------------------------------------------------------------------\n",
    "Sample input:\n",
    "6\n",
    "\n",
    "Sample output:\n",
    "Even"
   ]
  },
  {
   "cell_type": "code",
   "execution_count": null,
   "metadata": {
    "colab": {
     "base_uri": "https://localhost:8080/"
    },
    "id": "bJO3LPC3fAuW",
    "outputId": "46fad881-1f1e-4d75-9bad-34f18ec8c06f"
   },
   "outputs": [
    {
     "name": "stdout",
     "output_type": "stream",
     "text": [
      "3\n",
      "Odd\n"
     ]
    }
   ],
   "source": [
    "#Take input on your own\n"
   ]
  },
  {
   "cell_type": "markdown",
   "metadata": {
    "id": "dBy-nWTVfNiD"
   },
   "source": [
    "**Question-3:**\n",
    "\n",
    "A number k is beautiful if it is of the form 3n+1, is pretty if it is of the form 3n+2 and is awesome if it is of form 3n.\n",
    "Given a number k, print if it is beautiful, pretty or awesome.\n",
    "\n",
    "Sample input:\n",
    "21\n",
    "\n",
    "Sample output:\n",
    "awesome\n",
    "\n",
    "Sample input:\n",
    "22\n",
    "\n",
    "Sample output:\n",
    "beautiful\n",
    "\n",
    "Sample input:\n",
    "23\n",
    "\n",
    "Sample output:\n",
    "pretty\n"
   ]
  },
  {
   "cell_type": "code",
   "execution_count": null,
   "metadata": {
    "colab": {
     "base_uri": "https://localhost:8080/"
    },
    "id": "OL0t_YyEfaa1",
    "outputId": "effbe17a-f882-4906-e543-5564f2ab914f"
   },
   "outputs": [
    {
     "name": "stdout",
     "output_type": "stream",
     "text": [
      "22\n",
      "beautiful\n"
     ]
    }
   ],
   "source": []
  },
  {
   "cell_type": "code",
   "execution_count": null,
   "metadata": {
    "id": "AcVNxxU2f0mp"
   },
   "outputs": [],
   "source": [
    "l=list(input())\n",
    "print(l)"
   ]
  },
  {
   "cell_type": "markdown",
   "metadata": {
    "id": "sb25bj5mf1Hi"
   },
   "source": [
    "**Question - 4:**\n",
    "\n",
    "You're trying to automate your alarm clock by writing a function for it. You're given a day of the week encoded as 1=Mon, 2=Tue, ... 6=Sat, 7=Sun, and whether you are on vacation as a boolean value (a boolean object is either True or False. Google \"booleans python\" to get a better understanding). Based on the day and whether you're on vacation, write a function that returns a time in form of a string indicating when the alarm clock should ring. \n",
    "\n",
    "When not on a vacation, on weekdays, the alarm should ring at \"7:00\" and on the weekends (Saturday and Sunday) it should ring at \"10:00\". \n",
    "\n",
    "While on a vacation, it should ring at \"10:00\" on weekdays. On vacation, it should not ring on weekends, that is, it should return \"off\".\n",
    "\n",
    "----------------------------------------------------------------------\n",
    "Input:\n",
    "The input will be a list of two elements. The first element will be an integer from 1 to 7, and the second element will be a boolean value.\n",
    "\n",
    "Output:\n",
    "The output will be a string denoting the time alarm will ring or 'off'\n",
    "\n",
    "----------------------------------------------------------------------\n",
    "Sample input:\n",
    "[7, True]\n",
    "\n",
    "Sample output:\n",
    "off\n",
    "\n",
    "----------------------------------------------------------------------\n",
    "Sample input:\n",
    "[3, True]\n",
    "\n",
    "Sample output:\n",
    "10:00\n",
    "\n",
    "----------------------------------------------------------------------\n"
   ]
  },
  {
   "cell_type": "raw",
   "metadata": {
    "colab": {
     "base_uri": "https://localhost:8080/"
    },
    "id": "N1l-3g9Bf6wo",
    "outputId": "2ae1a6dc-dc92-460d-c141-a3c9b3faa3fe"
   },
   "source": [
    "#Take input here\n",
    "l=list(input().split(','))\n",
    "if l[1]=='False':\n",
    "    if l[0] in ['1','2','3','4','5']:\n",
    "        print('7:00')\n",
    "    if l[0] in ['6','7']:\n",
    "        print('10:00')\n",
    "elif l[1]=='True':\n",
    "    if l[0] in ['1','2','3','4','5']:\n",
    "        print('10:00')\n",
    "    if l[0] in ['6','7']:\n",
    "        print('off')"
   ]
  },
  {
   "cell_type": "markdown",
   "metadata": {
    "id": "AqrscNL0gY21"
   },
   "source": [
    "**Question-5:**\n",
    "\n",
    "Description\n",
    "Factorial is a mathematical function denoted by '!'. It is defined as\n",
    "\n",
    "n factorial = n!= 1*2*3...*(n-1)*n\n",
    "\n",
    "In this question, you have to make a function that will take an integer as input, and return the factorial of that integer if that integer is greater than or equal to zero and return -1 if the number is less than zero or negative.\n",
    "\n",
    "Note: the function doesn't return print the factorial but returns it.\n",
    "----------------------------------------------------------------------\n",
    "Input:\n",
    "An integer n\n",
    "\n",
    "Output:\n",
    "The function returns n! if n is greater than or equal to 0.\n",
    "0! = 1\n",
    "and the function returns -1 if the number is less than 0.\n",
    "\n",
    "----------------------------------------------------------------------\n",
    "Sample input:\n",
    "3\n",
    "\n",
    "Sample output:\n",
    "6\n",
    "\n",
    "----------------------------------------------------------------------\n",
    "Sample input:\n",
    "-4\n",
    "\n",
    "Sample output:\n",
    "-1\n"
   ]
  },
  {
   "cell_type": "code",
   "execution_count": 39,
   "metadata": {
    "colab": {
     "base_uri": "https://localhost:8080/"
    },
    "id": "7nvXWOrUggIO",
    "outputId": "010d7b2d-a7c0-49ff-969b-e8fd57fc8f30"
   },
   "outputs": [
    {
     "name": "stdout",
     "output_type": "stream",
     "text": [
      "-4\n",
      "-1\n"
     ]
    }
   ],
   "source": [
    "#take the input here\n",
    "x=int(input())\n",
    "tot=1\n",
    "if x>=0:\n",
    "    for i in range(1,x+1):\n",
    "        tot=tot*i\n",
    "    print(tot)\n",
    "else:\n",
    "        print(-1)"
   ]
  },
  {
   "cell_type": "markdown",
   "metadata": {
    "id": "NBKZMigznHE5"
   },
   "source": [
    "**Question - 6:**\n",
    "\n",
    "You will be given a number. You have to reverse the digits of the number and print it.\n",
    "\n",
    "----------------------------------------------------------------------\n",
    "Input:\n",
    "A positive integer greater than zero\n",
    "\n",
    "Output:\n",
    "The number in reverse order. Check sample outputs for more details.\n",
    "\n",
    "----------------------------------------------------------------------\n",
    "Sample input:\n",
    "345200\n",
    "\n",
    "Sample output:\n",
    "2543\n",
    "\n",
    "----------------------------------------------------------------------\n",
    "Sample input:\n",
    "6752343\n",
    "\n",
    "Sample output:\n",
    "3432576"
   ]
  },
  {
   "cell_type": "code",
   "execution_count": 6,
   "metadata": {
    "colab": {
     "base_uri": "https://localhost:8080/"
    },
    "id": "Za6SoDhBnRpY",
    "outputId": "034f30b9-2c5b-48f9-fd8d-f2a74ceead5a"
   },
   "outputs": [
    {
     "name": "stdout",
     "output_type": "stream",
     "text": [
      "3284893289324732894\n",
      "4982374239823984823\n"
     ]
    }
   ],
   "source": [
    "#take input of the number here\n",
    "x=int(input())\n",
    "r=0\n",
    "while x>0:\n",
    "    r=x%10+(r*10)\n",
    "    x=x//10\n",
    "print(r)"
   ]
  },
  {
   "cell_type": "markdown",
   "metadata": {
    "id": "1wSk_FQkncpE"
   },
   "source": [
    "Question-8: \n",
    "\n",
    "How Many Chocolates?\n",
    "Description\n",
    "Sanjay loves chocolates. He goes to a shop to buy his favourite chocolate. There he notices there is an offer going on, upon bringing 3 wrappers of the same chocolate, you will get new chocolate for free. If Sanjay has m Rupees. How many chocolates will he be able to eat if each chocolate costs c Rupees?\n",
    "\n",
    "----------------------------------------------------------------------\n",
    "Input:\n",
    "Two positive integers m and c separated by a comma. The first integer is m and the second integer is c \n",
    "\n",
    "Output:\n",
    "A single integer denoting the number of chocolates Sanjay was able to eat in total.\n",
    "\n",
    "----------------------------------------------------------------------\n",
    "Sample input:\n",
    "15, 2\n",
    "\n",
    "Sample output:\n",
    "10\n",
    "\n",
    "Explanation:\n",
    "First, he will get 15/2=7 chocolates. He then will return 6 wrappers for 2 chocolates. And lastly, these two wrappers and the one he previously had will get him one more chocolate, making a total of 7+2+1=10 chocolates.\n",
    "\n",
    "----------------------------------------------------------------------\n",
    "Sample input:\n",
    "3,1\n",
    "\n",
    "Sample output:\n",
    "4"
   ]
  },
  {
   "cell_type": "markdown",
   "metadata": {
    "colab": {
     "base_uri": "https://localhost:8080/"
    },
    "id": "M6-Vynu0nnE4",
    "outputId": "a443741a-89de-448f-f3cb-fa80b5f1a69a"
   },
   "source": [
    "\n",
    "mon=int(input())\n",
    "cost=int(input())\n",
    "choc=mon//cost\n",
    "wrap=mon//cost\n",
    "\n",
    "while wrap//3>0:\n",
    "    choc=choc+wrap//3\n",
    "    wrap=wrap//3+wrap%3\n",
    "print(choc)\n",
    "   \n",
    "\n",
    "\n",
    "\n",
    "\n"
   ]
  },
  {
   "cell_type": "markdown",
   "metadata": {
    "id": "vMBAW2ESn8ij"
   },
   "source": [
    "**Question - 9:**\n",
    "\n",
    "Printing different patterns is a very good exercise to reinforce iteration through loops and strong logic building. Here you will be given a positive integer and you will generate pattern based on that integer.\n",
    "\n",
    "----------------------------------------------------------------------\n",
    "Input:\n",
    "A positive integer n\n",
    "1 <= n <=20\n",
    "\n",
    "Output:\n",
    "A pattern as described by the Sample input and outputs below.\n",
    "\n",
    "----------------------------------------------------------------------\n",
    "Sample input:\n",
    "5\n",
    "\n",
    "Sample output:\n",
    "\n",
    "    *\n",
    "   *_*\n",
    "  *_*_*\n",
    " *_*_*_*\n",
    "*_*_*_*_*\n",
    "\n",
    "\n",
    "----------------------------------------------------------------------\n",
    "Sample input:\n",
    "3\n",
    "\n",
    "Sample output:\n",
    "  *\n",
    " *_*\n",
    "*_*_*\n"
   ]
  },
  {
   "cell_type": "code",
   "execution_count": null,
   "metadata": {
    "colab": {
     "base_uri": "https://localhost:8080/"
    },
    "id": "vVv2eDTjoChS",
    "outputId": "b6fbb032-05d5-49b2-e8bf-bc91261d90d8"
   },
   "outputs": [
    {
     "name": "stdout",
     "output_type": "stream",
     "text": [
      "5\n",
      "    *\n",
      "   *_*\n",
      "  *_*_*\n",
      " *_*_*_*\n",
      "*_*_*_*_*\n"
     ]
    }
   ],
   "source": [
    "#please take input here\n"
   ]
  },
  {
   "cell_type": "markdown",
   "metadata": {
    "id": "Q3ilIiW3tT5E"
   },
   "source": [
    "**Question-10:** \n",
    "\n",
    "Any number, say n is called an Armstrong number if it is equal to the sum of its digits, where each is raised to the power of number of digits in n. For example: 153=1^3+5^3+3^3\n",
    "\n",
    "Write Python code to determine whether an entered three digit number is an Armstrong number or not. Assume that the number entered will strictly be a three digit number. Print \"True\" if it is an Armstrong number and print \"False\" if it is not.\n",
    "\n",
    "Sample Input: 153\n",
    "\n",
    "Sample Output: True\n",
    "\n",
    "Sample Input: 125\n",
    "\n",
    "Sample Output: False"
   ]
  },
  {
   "cell_type": "markdown",
   "metadata": {
    "id": "7d_OEStycDnA"
   },
   "source": [
    "**Logic to solve problem**\n",
    "\n",
    "We should start with writing a pseudo code:\n",
    "\n",
    "\n",
    "\n",
    "*   Step-1: Converst the number into string and determine the length. This length will be used as power to which each digit will be raised\n",
    "\n",
    "*   Step-2: Use modulo function to determine each digit\n",
    "\n",
    "*   Step-3: Take summation of each digit raised to the power equal to the number of digit\n",
    "\n",
    "\n",
    "\n",
    "\n",
    "\n",
    "\n"
   ]
  },
  {
   "cell_type": "code",
   "execution_count": 12,
   "metadata": {
    "colab": {
     "base_uri": "https://localhost:8080/"
    },
    "id": "Yzaz3ToatdtX",
    "outputId": "b9336e4f-69ce-42a9-b520-01abf5a7471a"
   },
   "outputs": [
    {
     "name": "stdout",
     "output_type": "stream",
     "text": [
      "153\n",
      "True\n"
     ]
    }
   ],
   "source": [
    "num=int(input())\n",
    "summ=0\n",
    "temp=num\n",
    "while temp>0:\n",
    "        digit=temp%10\n",
    "        summ=summ+(digit**3)\n",
    "        temp=temp//10\n",
    "if summ==num:\n",
    "    print('True')\n",
    "else:\n",
    "    print('false')"
   ]
  },
  {
   "cell_type": "code",
   "execution_count": null,
   "metadata": {},
   "outputs": [],
   "source": [
    "def arm():\n",
    "    for i in range(1,25001):\n",
    "        summ=0\n",
    "        temp=i\n",
    "        while temp>0:\n",
    "            digit=temp//10\n",
    "            summ=summ+(digit**3)\n",
    "            temp=temp%10\n",
    "        if summ==i:\n",
    "            print(i)\n",
    "        else:\n",
    "            continue\n",
    "arm()\n"
   ]
  },
  {
   "cell_type": "markdown",
   "metadata": {
    "id": "28wgnpsctpmV"
   },
   "source": [
    "**Question-11:**\n",
    "\n",
    "Compute and display Fibonacci series upto n terms where n is a positive integer entered by the user.\n",
    "\n",
    "Sample Input: 5\n",
    "\n",
    "Sample Output:\n",
    "\n",
    "0\n",
    "\n",
    "1\n",
    "\n",
    "1\n",
    "\n",
    "2\n",
    "\n",
    "3"
   ]
  },
  {
   "cell_type": "markdown",
   "metadata": {
    "id": "SIWurRQpdKYE"
   },
   "source": [
    "**Logic to solve problem**\n",
    "\n",
    "The Fibonacci numbers are the numbers in the following integer sequence.\n",
    "0, 1, 1, 2, 3, 5, 8, 13, 21, 34, 55, 89, 144, ……..\n",
    "\n",
    "In mathematical terms, the sequence Fn of Fibonacci numbers is defined by the recurrence relation \n",
    "\n",
    "Fn = Fn-1 + Fn-2\n",
    "with seed values \n",
    "\n",
    "F0 = 0 and F1 = 1. \n",
    "\n",
    "In this problem, we have to write a function sch that it determines a new number as the sum of last two numbers and then print that number"
   ]
  },
  {
   "cell_type": "code",
   "execution_count": null,
   "metadata": {
    "colab": {
     "base_uri": "https://localhost:8080/"
    },
    "id": "HBl1t72xtv5P",
    "outputId": "91cc8ba4-929e-4d0c-dad0-6582590f933a"
   },
   "outputs": [
    {
     "name": "stdout",
     "output_type": "stream",
     "text": [
      "8\n",
      "0\n",
      "1\n",
      "1\n",
      "2\n",
      "3\n",
      "5\n",
      "8\n",
      "13\n"
     ]
    }
   ],
   "source": []
  },
  {
   "cell_type": "markdown",
   "metadata": {
    "id": "Z8Xd-eqRt5aA"
   },
   "source": [
    "Question-12:\n",
    "\n",
    "Write python code to find the sum of prime numbers from 2 to n where n is a positive integer entered by the user.\n",
    "\n",
    "Note: n can be non-prime or prime. You have to find sum of primes till n and not sum of n prime numbers. i.e. for input 10, output should be 17.\n",
    "\n",
    "Hint: You can try using lambda functions and comprehensions to reduce the lines of code you have to write.\n",
    "\n",
    "Input: A positive integer n.\n",
    "\n",
    "Output: A integer denoting the sum of primes less than or equal to n\n",
    "\n",
    "Sample Input:\n",
    "\n",
    "5\n",
    "\n",
    "Sample Output:\n",
    "\n",
    "10"
   ]
  },
  {
   "cell_type": "code",
   "execution_count": null,
   "metadata": {
    "colab": {
     "base_uri": "https://localhost:8080/"
    },
    "id": "pFKRuSUTt-4j",
    "outputId": "ba050832-d8a6-4e83-d789-1b75d14a789f"
   },
   "outputs": [
    {
     "name": "stdout",
     "output_type": "stream",
     "text": [
      "7\n",
      "17\n"
     ]
    }
   ],
   "source": []
  },
  {
   "cell_type": "code",
   "execution_count": 4,
   "metadata": {},
   "outputs": [
    {
     "name": "stdout",
     "output_type": "stream",
     "text": [
      "[4,5],[5,50]\n",
      "3\n",
      "0\n"
     ]
    }
   ],
   "source": [
    "import ast\n",
    "input_str = input()\n",
    "input_list = ast.literal_eval(input_str)\n",
    "wedding = int(input())\n",
    "clash =0\n",
    "for e in input_list:\n",
    "    if e[0]<=wedding and e[1]>=wedding:\n",
    "        clash= clash+1\n",
    "\n",
    "print(clash)"
   ]
  },
  {
   "cell_type": "code",
   "execution_count": 38,
   "metadata": {},
   "outputs": [
    {
     "name": "stdout",
     "output_type": "stream",
     "text": [
      "{1,2,3,4,5}\n",
      "{3,2,6,7}\n",
      "{1, 4, 5, 6, 7}\n"
     ]
    }
   ],
   "source": [
    "import ast\n",
    "setA = input()\n",
    "x=ast.literal_eval(setA)\n",
    "setB = input()\n",
    "y=ast.literal_eval(setB)\n",
    "z= x.symmetric_difference(y)\n",
    "print(z)"
   ]
  }
 ],
 "metadata": {
  "colab": {
   "collapsed_sections": [],
   "provenance": []
  },
  "kernelspec": {
   "display_name": "Python 3 (ipykernel)",
   "language": "python",
   "name": "python3"
  },
  "language_info": {
   "codemirror_mode": {
    "name": "ipython",
    "version": 3
   },
   "file_extension": ".py",
   "mimetype": "text/x-python",
   "name": "python",
   "nbconvert_exporter": "python",
   "pygments_lexer": "ipython3",
   "version": "3.9.12"
  }
 },
 "nbformat": 4,
 "nbformat_minor": 1
}

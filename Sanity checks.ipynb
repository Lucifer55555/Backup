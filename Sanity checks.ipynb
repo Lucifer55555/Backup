{
 "cells": [
  {
   "cell_type": "code",
   "execution_count": 1,
   "metadata": {},
   "outputs": [],
   "source": [
    "import pandas as pd\n",
    "import numpy as np\n",
    "import re\n",
    "from sqlalchemy import create_engine"
   ]
  },
  {
   "cell_type": "code",
   "execution_count": 3,
   "metadata": {},
   "outputs": [],
   "source": [
    "check_transactions_df= pd.read_excel('sms_data.xlsx')"
   ]
  },
  {
   "cell_type": "code",
   "execution_count": 4,
   "metadata": {},
   "outputs": [],
   "source": [
    "check_transactions_df['samplesms'] = check_transactions_df['samplesms'].apply(lambda x: str(x))\n",
    "check_transactions_df['regex'] = check_transactions_df['regex'].apply(lambda x: str(x))"
   ]
  },
  {
   "cell_type": "code",
   "execution_count": 5,
   "metadata": {},
   "outputs": [
    {
     "data": {
      "text/plain": [
       "(52, 198)"
      ]
     },
     "execution_count": 5,
     "metadata": {},
     "output_type": "execute_result"
    }
   ],
   "source": [
    "check_transactions_df.shape"
   ]
  },
  {
   "cell_type": "code",
   "execution_count": 6,
   "metadata": {},
   "outputs": [],
   "source": [
    "check_transactions_df = check_transactions_df[~check_transactions_df.regex.isin([np.nan])]"
   ]
  },
  {
   "cell_type": "code",
   "execution_count": null,
   "metadata": {},
   "outputs": [],
   "source": [
    "def sure_regex_checks(transactions_df):\n",
    "\n",
    "    transactions_df['Test01'] = transactions_df.apply(lambda x: 'fail' if re.search(' o/w', x['regex'].lower())\n",
    "                                                                        and (x['smstype'] != 'credit-transaction' or\n",
    "                                                                        x['smssubtype'] != 'income' or x['transactiontype'] != 'cheque'\n",
    "                                                                        or x['transactionchannel'] != 'other') else 'pass', axis = 1)\n",
    "    print('Test01===completed===========================================================================')\n",
    "\n",
    "    transactions_df['Test02'] = transactions_df.apply(lambda x: 'fail' if re.search('i/w', x['regex'].lower())\n",
    "                                                                        and (x['smstype'] != 'debit-transaction' or\n",
    "                                                                        x['smssubtype'] != 'expense' or x['transactiontype'] != 'cheque'\n",
    "                                                                        or x['transactionchannel'] != 'other') else 'pass', axis = 1)\n",
    "    print('Test02===completed===========================================================================')\n",
    "\n",
    "# If ‘IMPS/NEFT/RTGS’ and ‘debited’ in the SMS body then: SMS Type - debit, Account Type- Bank Account, SMS Sub type - Transfer out,  Transaction Channel - Net Banking\n",
    "    transactions_df['Test03'] = transactions_df.apply(lambda x: 'fail' if re.search('imps|neft|rtgs|p2p|p2a', x['regex'].lower())\n",
    "                                                                        and re.search('debit|debited', x['regex'].lower())\n",
    "                                                                         and (x['smstype'] != 'debit-transaction'\n",
    "                                                                        or x['accounttype'] != 'bank' or x['smssubtype'] != 'transfer-out'\n",
    "                                                                        or x['transactionchannel'] != 'net-banking')  else 'pass', axis = 1)\n",
    "    print('Test03===completed===========================================================================')\n",
    "\n",
    "# If ‘IMPS/NEFT/RTGS’ and ‘credited’ in the SMS body then: SMS Type - credit, Account Type- Bank Account, SMS Sub type - income, Transaction Type - Account Transfer,  Transaction Channel - Net Banking\n",
    "    transactions_df['Test04'] = transactions_df.apply(lambda x: 'fail' if re.search('imps|neft|rtgs', x['regex'].lower())\n",
    "                                                                        and re.search('credit|credited', x['regex'].lower())\n",
    "                                                                        and not re.search('debit|debited', x['regex'].lower())\n",
    "                                                                       and not re.search('credited to', x['regex'].lower())\n",
    "                                                               and not re.search('credited to', x['regex'].lower())\n",
    "                                                                        and (x['smstype'] != 'credit-transaction'\n",
    "                                                                        or x['accounttype'] != 'bank' or x['transactiontype'] != 'account-transfer'\n",
    "                                                                        or x['transactionchannel'] != 'net-banking')  else 'pass', axis = 1)\n",
    "    print('Test04===completed===========================================================================')\n",
    "      # If smstype is bill and smssubtype is bill-payment-reminder and totalamountdue is -1 or minamountdue then fail otherwise pass\n",
    "    transactions_df['Test05'] = transactions_df.apply(lambda x: 'fail' if x['smstype'] == 'bill' and x['smssubtype'] == 'bill-payment-reminder' and (x['totalamountdue'] == -1 or x['minamountdue'] == -1 )\n",
    "                                                                          and x['amount'] != -1 and x['duedate'] == -1 else 'pass', axis = 1)\n",
    "    print('Test05===completed===========================================================================')\n",
    "\n",
    "   # If smstype is bill and smssubtype is bill-payment-rejection and transaction amount is -1 then fail otherwise pass\n",
    "    transactions_df['Test06'] = transactions_df.apply(lambda x: 'fail' if x['smstype'] == 'bill' and x['smssubtype'] == 'bill-payment-rejection' and x['smssubtype'] != 'bill-past-due' else 'pass', axis = 1)\n",
    "    print('Test06===completed===========================================================================')\n",
    "\n",
    "   # If smstype is bill and smssubtype is bill-payment-confiramation and transaction amount is -1 then fail otherwise pass\n",
    "    transactions_df['Test07'] = transactions_df.apply(lambda x: 'fail' if x['smstype'] == 'bill' and x['smssubtype'] == 'bill-payment-confirmation' and x['amount'] == -1 else 'pass', axis = 1)\n",
    "    print('Test07===completed===========================================================================')\n",
    "\n",
    "   # If smstype is credit-transaction or debit-transction and transaction amount is -1 and pan is -1 then fail otherwise pass\n",
    "    transactions_df['Test08'] = transactions_df.apply(lambda x: 'fail' if (x['smstype'] == 'debit-transaction' or x['smstype'] == 'credit-transaction') and x['amount'] == -1\n",
    "                                                                          and x['pan'] == -1 else 'pass', axis = 1)\n",
    "    print('Test08===completed===========================================================================')\n",
    "    \n",
    "    transactions_df['Test09'] = transactions_df.apply(lambda x: 'fail' if (re.search('imps|neft|rtgs|fund\\s*transfer|\\s*FT\\s*', x['samplesms'].lower())\n",
    "                                                                       and x['transactionchannel']!='net-banking')\n",
    "                                                                           else 'pass', axis = 1)\n",
    "    print('Test09===completed===========================================================================')\n",
    "    \n",
    "    transactions_df['Test10'] = transactions_df.apply(lambda x: 'fail' if (x['smstype']=='credit-transaction' and x['smssubtype']=='cc-bill-payment') and (x['accounttype']!='credit-card') else\n",
    "                           'pass', axis=1)\n",
    "    print('Test10===completed===========================================================================')\n",
    "\n",
    "    transactions_df['Test11'] = transactions_df.apply(lambda x: 'fail' if (x['smstype']=='credit-transaction' and x['accounttype']=='bank') \n",
    "                                                              and (x['smstype'] in ('cc-bill-payment','emi-installment'))else 'pass', axis=1)\n",
    "\n",
    "    print('Test11===completed===========================================================================')\n",
    "\n",
    "    transactions_df['Test12'] = transactions_df.apply(lambda x: 'fail' if (x['smstype']=='credit-transaction' and x['transactiontype']=='account-transfer') \n",
    "                                                              and (x['receiveraccountid']!=-1)else 'pass', axis=1)\n",
    "\n",
    "    print('Test12===completed===========================================================================')\n",
    "\n",
    "    transactions_df['Test13'] = transactions_df.apply(lambda x: 'fail' if (x['smstype']=='credit-transaction') \n",
    "                                                              and (x['minamountdue']!=-1 or x['totalamountdue']!=-1) else 'pass', axis=1)\n",
    "\n",
    "    print('Test13===completed===========================================================================')\n",
    "\n",
    "    transactions_df['Test14'] = transactions_df.apply(lambda x: 'fail' if (x['smstype']=='credit-transaction' and x['accounttype']=='fd') \n",
    "                                                              and (x['smssubtype'] in ('refund-reversal', 'cash-back')) else 'pass', axis=1)\n",
    "\n",
    "    print('Test14===completed===========================================================================')\n",
    "\n",
    "    transactions_df['Test15'] = transactions_df.apply(lambda x: 'fail' if (x['smstype']=='debit-transaction' and x['accounttype']=='credit-card') \n",
    "                                                              and (x['balance']!=-1) else 'pass', axis=1)\n",
    "\n",
    "    print('Test15===completed===========================================================================')\n",
    "\n",
    "    transactions_df['Test16'] = transactions_df.apply(lambda x: 'fail' if (x['smstype']=='debit-transaction' and x['accounttype'] in ('bank','debit-card')) \n",
    "                                                              and (x['availablelimit']!=-1 ) else 'pass', axis=1)\n",
    "\n",
    "    print('Test16===completed===========================================================================')\n",
    "\n",
    "    transactions_df['Test17'] = transactions_df.apply(lambda x: 'fail' if (x['smstype']=='bill' and x['smssubtype']=='bill-default') \n",
    "                                                              and (x['transactiontype']=='auto-debit') else 'pass', axis=1)\n",
    "\n",
    "    print('Test17===completed===========================================================================')\n",
    "\n",
    "    transactions_df['Test18'] = transactions_df.apply(lambda x: 'fail' if (x['smstype']=='debit-transaction' and x['smssubtype']=='cash-withdrawal') \n",
    "                                                              and (x['transactionchannel']!='other') else 'pass', axis=1)\n",
    "\n",
    "    print('Test18===completed===========================================================================')\n",
    "\n",
    "    transactions_df['Test19'] = transactions_df.apply(lambda x: 'fail' if (x['smstype']=='debit-transaction' and x['smssubtype']=='cc-bill-payment') \n",
    "                                                              and (x['accounttype']=='credit-card') else 'pass', axis=1)\n",
    "\n",
    "    print('Test19===completed===========================================================================')\n",
    "\n",
    "\n",
    "    transactions_df['Test20'] = transactions_df.apply(lambda x: 'fail' if (x['smstype']=='debit-transaction' and x['transactiontype']=='account-transfer') \n",
    "                                                              and (x['senderaccountid']!=-1) else 'pass', axis=1)\n",
    "\n",
    "\n",
    "    print('Test20===completed===========================================================================')\n",
    "\n",
    "    transactions_df['Test21'] = transactions_df.apply(lambda x: 'fail' if (x['smstype']=='bank-notification' and x['smssubtype']=='beneficary-add') \n",
    "                                                              and (x['sendername']!=-1) else 'pass', axis=1)\n",
    "\n",
    "    print('Test21===completed===========================================================================')\n",
    "\n",
    "\n",
    "    transactions_df['Test22'] = transactions_df.apply(lambda x: 'fail' if (re.search('fastag' , x['regex'].lower()) and x['smstype']=='debit-transaction' and x['smssubtype']!='fastag') else 'pass', axis=1)\n",
    "\n",
    "    print('Test22===completed===========================================================================')\n",
    "    \n",
    "    transactions_df['Test23'] = transactions_df.apply(lambda x: 'fail' if (re.search('bill' , x['regex'].lower())) and x['smstype']=='debit-transaction' and (x['transactiontype'] in ('regular','fine','bank-fee','cheque','cash-withdrawal')) else 'pass', axis=1)\n",
    "\n",
    "    print('Test23===completed===========================================================================')\n",
    "\n",
    "    transactions_df['Test24'] = transactions_df.apply(lambda x: 'fail' if (x['smstype']=='bank-notification' and x['smssubtype']=='loan-disbursed'\n",
    "                                                              and x['amount']!=-1) else 'pass', axis=1)\n",
    "\n",
    "    print('Test24===completed===========================================================================')\n",
    "\n",
    "    transactions_df['Test25'] = transactions_df.apply(lambda x: 'fail' if (x['smstype']=='bill' and (re.search('overdue' , x['regex'].lower()))\n",
    "                                                              and x['smssubtype']=='bill-payment-confirmation') else 'pass', axis=1)\n",
    "\n",
    "    print('Test25===completed===========================================================================')\n",
    "\n",
    "    transactions_df['Test26'] = transactions_df.apply(lambda x: 'fail' if ((re.search('bounced' , x['regex'].lower()))\n",
    "                                                              and x['transactionchannel']!='auto-debit') else 'pass', axis=1)\n",
    "\n",
    "    print('Test26===completed===========================================================================')\n",
    "\n",
    "    transactions_df['Test27'] = transactions_df.apply(lambda x: 'fail' if ((x['transactiontype']=='cash-withdrawal' or x['transactiontype']=='cash')\n",
    "                                                              and x['transactionchannel']!='other') else 'pass', axis=1)\n",
    "\n",
    "    print('Test27===completed===========================================================================')\n",
    "\n",
    "    transactions_df['Test28'] = transactions_df.apply(lambda x: 'fail' if (x['accounttype']=='upi'\n",
    "                                                              and x['transactionchannel']!='upi') else 'pass', axis=1)\n",
    "\n",
    "    print('Test28===completed===========================================================================')\n",
    "\n",
    "    transactions_df['Test29'] = transactions_df.apply(lambda x: 'fail' if (x['smssubtype']=='beneficiary-add'\n",
    "                                                              and x['accountype']!='bank') else 'pass', axis=1)\n",
    "\n",
    "    print('Test29===completed===========================================================================')\n",
    "\n",
    "    transactions_df['Test30'] = transactions_df.apply(lambda x: 'fail' if (re.search(' ach\\s*| nach\\s*| standing\\s*instruction| ecs\\s*| SI\\s*', x['regex'].lower())\n",
    "                                                              and x['transactionchannel']!='auto-debit') else 'pass', axis=1)\n",
    "\n",
    "    print('Test30===completed===========================================================================')\n",
    "\n",
    "    transactions_df['Test31'] = transactions_df.apply(lambda x: 'fail' if (x['smssubtype']=='loan-disbursed'\n",
    "                                                              and x['accounttype'] not in ('pay-later-account','loan','loan-against-dc','loan-against-cc','credit-line','credit-card','bullet-loan')) else 'pass', axis=1)\n",
    "\n",
    "    print('Test31===completed===========================================================================')\n",
    "\n",
    "    transactions_df['Test32'] = transactions_df.apply(lambda x: 'fail' if (x['smssubtype']=='transaction-emi-convert'\n",
    "                                                              and x['accounttype'] not in ('pay-later-account','loan','loan-against-dc','loan-against-cc','credit-line','credit-card','bullet-loan')) else 'pass', axis=1)\n",
    "\n",
    "    print('Test32===completed===========================================================================')\n",
    "    \n",
    "    transactions_df['Test33'] = transactions_df.apply(lambda x: 'fail' if (x['smstype']=='debit-transaction' and x['smssubtype']=='transfer-out'\n",
    "                                                              and x['senderaccountid']!=-1) else 'pass', axis=1)\n",
    "\n",
    "    print('Test33===completed===========================================================================')\n",
    "\n",
    "    transactions_df['Test34'] = transactions_df.apply(lambda x: 'fail' if (x['smstype']=='bill' and x['smssubtype'] in ('bill-reminder','bill-past-due')\n",
    "                                                              and x['date']!=-1) else 'pass', axis=1)\n",
    "\n",
    "    print('Test34===completed===========================================================================')\n",
    "\n",
    "    transactions_df['Test35'] = transactions_df.apply(lambda x: 'fail' if (x['smstype']=='bill' and x['smssubtype']=='bill-payment-confirmation'\n",
    "                                                              and x['duedate']!=-1) else 'pass', axis=1)\n",
    "\n",
    "    print('Test35===completed===========================================================================')\n",
    "    \n",
    "    transactions_df['Test36'] = transactions_df.apply(lambda x: 'fail' if (x['transactiontype']=='salary' \n",
    "                                                              and x['accounttype']!='bank') else 'pass', axis=1)\n",
    "\n",
    "    print('Test36===completed===========================================================================')\n",
    "    \n",
    "    transactions_df['Test37'] = transactions_df.apply(lambda x: 'fail' if (x['transactiontype']=='cheque' \n",
    "                                                              and x['accounttype']!='bank' and x['transactionchannel']!='other') else 'pass', axis=1)\n",
    "\n",
    "    print('Test37===completed===========================================================================')\n",
    "    \n",
    "    transactions_df['Test38'] = transactions_df.apply(lambda x: 'fail' if (x['sms_tags']=='gold-loan' \n",
    "                                                              and re.search('gold\\s*loan', x['regex'].lower())) else 'pass', axis=1)\n",
    "    print('Test38===completed===========================================================================')\n",
    "    \n",
    "    transactions_df['Test39'] = transactions_df.apply(lambda x: 'fail' if (x['smssubtype']=='balance-notification' and x['accounttype']=='bank' \n",
    "                                                              and x['balance']==-1) else 'pass', axis=1)\n",
    "    print('Test39===completed===========================================================================')\n",
    "\n",
    "    transactions_df['Test40'] = transactions_df.apply(lambda x: 'fail' if (x['smssubtype'] in ('debit-scheduled','payment-transfer-request') \n",
    "                                                              and x['totalamountdue']!=-1 and x['minamountdue']!=-1) else 'pass', axis=1)\n",
    "    print('Test41===completed===========================================================================')\n",
    "\n",
    "    transactions_df['Test42'] = transactions_df.apply(lambda x: 'fail' if (x['smssubtype'] in ('credit-card-limit-increased','credit-card-limit-exceeded','credit-card-limit-decreased') \n",
    "                                                              and x['accounttype'] not in('credit-card','credit-line','pay-later-account')) else 'pass', axis=1)\n",
    "    print('Test42===completed===========================================================================')\n",
    "    \n",
    "    transactions_df['Test43'] = transactions_df.apply(lambda x: 'fail' if (x['smssubtype']=='balance-notification' and x['accounttype']=='credit-card' \n",
    "                                                              and x['availablelimit']==-1) else 'pass', axis=1)\n",
    "    print('Test43===completed===========================================================================')\n",
    "\n",
    "\n",
    "    return transactions_df"
   ]
  },
  {
   "cell_type": "code",
   "execution_count": null,
   "metadata": {
    "scrolled": true
   },
   "outputs": [],
   "source": [
    "check_transactions_df = sure_regex_checks(check_transactions_df)"
   ]
  },
  {
   "cell_type": "code",
   "execution_count": null,
   "metadata": {},
   "outputs": [],
   "source": [
    "check_transactions_df.to_excel('to_check.xlsx',index=0)"
   ]
  },
  {
   "cell_type": "markdown",
   "metadata": {},
   "source": [
    "# Sender service check"
   ]
  },
  {
   "cell_type": "code",
   "execution_count": null,
   "metadata": {},
   "outputs": [],
   "source": [
    "df = pd.read_excel('sms_data.xlsx', sheet_name='result')"
   ]
  },
  {
   "cell_type": "code",
   "execution_count": null,
   "metadata": {},
   "outputs": [],
   "source": [
    "df_multiple_service_types = df[df.groupby('senderaddress')['servicename'].transform('nunique') > 1]\n",
    "df_multiple_sender_addresses = df[df.groupby('servicename')['senderaddress'].transform('nunique') > 1]"
   ]
  },
  {
   "cell_type": "code",
   "execution_count": null,
   "metadata": {},
   "outputs": [],
   "source": [
    "df_violations = pd.concat([df_multiple_service_types, df_multiple_sender_addresses])"
   ]
  },
  {
   "cell_type": "code",
   "execution_count": null,
   "metadata": {},
   "outputs": [],
   "source": [
    "df_violations.to_excel('sender_service_fail.xlsx',index=0)"
   ]
  },
  {
   "cell_type": "markdown",
   "metadata": {},
   "source": [
    "# Regex Checks"
   ]
  },
  {
   "cell_type": "code",
   "execution_count": null,
   "metadata": {},
   "outputs": [],
   "source": [
    "rule_dict = {}\n",
    "for col in [x for x in check_transactions_df.columns if 'Test' in x]:\n",
    "    rule_dict[col]=check_transactions_df[check_transactions_df[col]=='fail'].shape[0]"
   ]
  },
  {
   "cell_type": "code",
   "execution_count": null,
   "metadata": {},
   "outputs": [],
   "source": [
    "rule_dict = {}\n",
    "hashes = []\n",
    "for col in [x for x in check_transactions_df.columns if 'Test' in x]:\n",
    "    rule_dict[col]=check_transactions_df[check_transactions_df[col]=='fail'].shape[0]\n",
    "    for x in check_transactions_df[check_transactions_df[col]=='fail']['hash']:\n",
    "        hashes.append(x)"
   ]
  },
  {
   "cell_type": "code",
   "execution_count": null,
   "metadata": {},
   "outputs": [],
   "source": [
    "hashes"
   ]
  },
  {
   "cell_type": "code",
   "execution_count": null,
   "metadata": {},
   "outputs": [],
   "source": [
    "sorted(rule_dict.items() , key=lambda x:x[1], reverse = True)"
   ]
  }
 ],
 "metadata": {
  "kernelspec": {
   "display_name": "Python 3 (ipykernel)",
   "language": "python",
   "name": "python3"
  },
  "language_info": {
   "codemirror_mode": {
    "name": "ipython",
    "version": 3
   },
   "file_extension": ".py",
   "mimetype": "text/x-python",
   "name": "python",
   "nbconvert_exporter": "python",
   "pygments_lexer": "ipython3",
   "version": "3.9.12"
  }
 },
 "nbformat": 4,
 "nbformat_minor": 2
}

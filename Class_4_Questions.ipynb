{
 "cells": [
  {
   "cell_type": "markdown",
   "metadata": {
    "id": "sGEgqUhkqc4w"
   },
   "source": []
  },
  {
   "cell_type": "markdown",
   "metadata": {
    "id": "SIqLJnGOcXn7"
   },
   "source": [
    "**Question-1**\n",
    "Sometimes the data has few duplicate values which will affect the analysis done. In this problem, you will be given a list. You have to find and delete the duplicates and print the updated list with no duplicates.\n",
    "\n",
    "----------------------------------------------------------------------\n",
    "Input:\n",
    "A list of integers.\n",
    "\n",
    "Output:\n",
    "A list of integers, with duplicates removed if any.\n",
    "\n",
    "----------------------------------------------------------------------\n",
    "Sample input:\n",
    "[8, 9, 2, 2, 3, 4, 5, 2]\n",
    "\n",
    "Sample output:\n",
    "[8, 9, 2, 3, 4, 5]\n",
    "\n",
    "----------------------------------------------------------------------\n",
    "Sample input:\n",
    "[4, 4, 4, 4]\n",
    "\n",
    "Sample output:\n",
    "[4]\n",
    "\n",
    "----------------------------------------------------------------------\n",
    "Note the order of the data did not change in input and output.\n"
   ]
  },
  {
   "cell_type": "code",
   "execution_count": 2,
   "metadata": {
    "colab": {
     "base_uri": "https://localhost:8080/"
    },
    "id": "5EoEzQJJcemG",
    "outputId": "ceebdfb1-fe46-4793-cbf5-70c63515c8e1"
   },
   "outputs": [
    {
     "name": "stdout",
     "output_type": "stream",
     "text": [
      "1,2,3,33,4,4,5,5,5,5,\n",
      "[1, 2, 3, 33, 4, 5]\n"
     ]
    }
   ],
   "source": [
    "l=eval(input())\n",
    "ul=[]\n",
    "for i in l:\n",
    "    if i not in ul:\n",
    "        ul.append(i)\n",
    "print(ul)\n"
   ]
  },
  {
   "cell_type": "code",
   "execution_count": null,
   "metadata": {
    "id": "-5N1LGq8cm8l"
   },
   "outputs": [],
   "source": []
  },
  {
   "cell_type": "markdown",
   "metadata": {
    "id": "KvxzTPrtcnr7"
   },
   "source": [
    "**Question-2**\n",
    "\n",
    "You will be converting a dictionary, of string(keys) and list of string (values),  to a list of strings. Please check the sample input/output for clarification.\n",
    "\n",
    "\n",
    "Input:\n",
    "A dictionary with keys as strings and values as a list of strings.\n",
    "\n",
    "Output:\n",
    "A list of strings\n",
    "\n",
    "\n",
    "Sample input:\n",
    "\n",
    "{'Mobile': ['Redmi', 'Samsung', 'Realme'], \n",
    "'Laptop': ['Dell', 'HP'],\n",
    "'TV': ['Videocon', 'Sony'] }\n",
    "\n",
    "Sample output:\n",
    "\n",
    "['Mobile_Redmi', 'Mobile_Samsung', 'Mobile_Realme', 'Laptop_Dell', 'Laptop_HP', 'TV_Videocon', 'TV_Sony']\n",
    "\n",
    "\n",
    "Sample input:\n",
    "\n",
    "{ 'Pen': ['Gel', 'Ink', 'ball'],\n",
    "'Mobile': ['Android', 'apple'] }\n",
    "\n",
    "Sample output:\n",
    "\n",
    "['Pen_Gel', 'Pen_Ink', 'Pen_ball', 'Mobile_Android', 'Mobile_apple']\n"
   ]
  },
  {
   "cell_type": "code",
   "execution_count": 8,
   "metadata": {
    "colab": {
     "base_uri": "https://localhost:8080/"
    },
    "id": "UmvoqTNicxDM",
    "outputId": "ee98b739-5442-43f5-fda9-a600966c75c7"
   },
   "outputs": [
    {
     "name": "stdout",
     "output_type": "stream",
     "text": [
      "{'Mobile': ['Redmi', 'Samsung', 'Realme'], 'Laptop': ['Dell', 'HP'], 'TV': ['Videocon', 'Sony'] }\n",
      "['Mobile_Redmi', 'Mobile_Samsung', 'Mobile_Realme', 'Laptop_Dell', 'Laptop_HP', 'TV_Videocon', 'TV_Sony']\n"
     ]
    }
   ],
   "source": [
    "import ast\n",
    "d=input()\n",
    "d=ast.literal_eval(d)\n",
    "l=[]\n",
    "for k,*values in d.items():\n",
    "     for i in d[k]:\n",
    "        l.append(k+'_'+i)\n",
    "        \n",
    "print(l)\n",
    "        \n",
    "   \n"
   ]
  },
  {
   "cell_type": "markdown",
   "metadata": {
    "id": "AyPEFsjSeCzH"
   },
   "source": [
    "**Question-3**\n",
    "\n",
    "For the purpose of this question, we will define something called an Relevel string. Note that this definition is not valid outside this question. A string Relevel string if the frequency of its characters is something like 1, 2, 3, 4, .... That is a character appears only once, another appears twice, another appears thrice and so on. For example string '$yrr$ssrsr' is a beautiful string since the frequency of y:1, $:2, s:3, r:4, however string '$yrr$ssrsr%' will not be beautiful since it has two characters (y and %) with frequency 1. The frequency of characters should be of form 1, 2, 3, 4, 5... only.\n",
    "Given a string, can you determine if the string is Relevel string or no?\n",
    "\n",
    "\n",
    "Input:\n",
    "\n",
    "A string\n",
    "\n",
    "Output:\n",
    "\n",
    "Boolean depending whether the string is Relevel string or not\n",
    "\n",
    "\n",
    "Sample input:\n",
    "\n",
    "$yrr$ssrsr\n",
    "\n",
    "Sample output:\n",
    "\n",
    "True\n",
    "\n",
    "\n",
    "Sample input:\n",
    "\n",
    "$yrr$ssrsr%\n",
    "\n",
    "Sample output:\n",
    "\n",
    "False\n",
    "\n",
    "Sample input:\n",
    "\n",
    "ab#ab#aba\n",
    "\n",
    "Sample output:\n",
    "\n",
    "False\n",
    "\n",
    "Sample input:\n",
    "\n",
    "ab#ab#ab6a\n",
    "\n",
    "Sample output:\n",
    "\n",
    "True\n"
   ]
  },
  {
   "cell_type": "code",
   "execution_count": 18,
   "metadata": {
    "colab": {
     "base_uri": "https://localhost:8080/"
    },
    "id": "K-39RzCie0Do",
    "outputId": "e2b9f9b4-0440-4f6f-e452-c47db34321d5"
   },
   "outputs": [
    {
     "name": "stdout",
     "output_type": "stream",
     "text": [
      "abbcccdddd\n",
      "True\n"
     ]
    }
   ],
   "source": [
    "string=input()\n",
    "string1=set(string)\n",
    "dict={}\n",
    "for i in string1:\n",
    "    count=0\n",
    "    for x in string:\n",
    "            if i==x:\n",
    "                count=count+1\n",
    "    dict[i]=count\n",
    "list1=dict.values()\n",
    "list1=list(list1)\n",
    "list1.sort()\n",
    "count=0\n",
    "for i in list1:\n",
    "    count=count+1\n",
    "    if i!=count:\n",
    "        print(False)\n",
    "        break\n",
    "    elif i==max(list1):\n",
    "        print(True)"
   ]
  },
  {
   "cell_type": "markdown",
   "metadata": {
    "id": "zXDTsbmHfDnO"
   },
   "source": [
    "**Question-4**\n",
    "\n",
    "You will be given a string with a lot of brackets. You have to print if the brackets are balanced or not. Remember, there are three types of brackets: ‘( )’,  ‘{ }’ and ‘[ ]’.\n",
    "\n",
    "----------------------------------------------------------------------\n",
    "Input:\n",
    "\n",
    "A string\n",
    "\n",
    "Output:\n",
    "\n",
    "Yes, if the brackets are balanced.\n",
    "No otherwise.\n",
    "\n",
    "----------------------------------------------------------------------\n",
    "Sample input:\n",
    "\n",
    "){[[]]}())()\n",
    "\n",
    "Sample output:\n",
    "\n",
    "No\n",
    "\n",
    "----------------------------------------------------------------------\n",
    "Sample input 2:\n",
    "\n",
    "[](){[]()(){}}\n",
    "\n",
    "Sample output 2:\n",
    "\n",
    "Yes\n"
   ]
  },
  {
   "cell_type": "code",
   "execution_count": 24,
   "metadata": {
    "colab": {
     "base_uri": "https://localhost:8080/"
    },
    "id": "fbGMxA3PfTOF",
    "outputId": "34b0dacf-93ad-4ed0-9473-519e17031da3"
   },
   "outputs": [
    {
     "name": "stdout",
     "output_type": "stream",
     "text": [
      "){[[]]}())()\n",
      "no\n"
     ]
    }
   ],
   "source": [
    "a=input()\n",
    "list1=[]\n",
    "list11=[]\n",
    "list2=[]\n",
    "list21=[]\n",
    "list3=[]\n",
    "list31=[]\n",
    "for i in a:\n",
    "    if i=='(':\n",
    "        list1.append(i)\n",
    "        continue\n",
    "    elif i==')':\n",
    "        list11.append(i)\n",
    "        continue\n",
    "    elif i=='{':\n",
    "        list2.append(i)\n",
    "        continue\n",
    "    elif i=='}':\n",
    "        list21.append(i)\n",
    "        continue\n",
    "    elif i=='[':\n",
    "        list3.append(i)\n",
    "        continue\n",
    "    elif i==']':\n",
    "        list31.append(i)\n",
    "if len(list1)==len(list11) and len(list2)==len(list21) and len(list3)==len(list31):\n",
    "        print('yes')\n",
    "else: print('no') \n",
    "\n",
    "    "
   ]
  },
  {
   "cell_type": "markdown",
   "metadata": {
    "id": "YVEB_vE0gAmM"
   },
   "source": [
    "**Question-5**\n",
    "\n",
    "You will be given a list of repeated elements. You have to find the maximum distance between two same elements. The answer will be zero if there are no repeated elements.\n",
    "\n",
    "----------------------------------------------------------------------\n",
    "Input:\n",
    "A non-empty list of integers.\n",
    "\n",
    "Output:\n",
    "A single integer denoting the maximum distance between two same integers.\n",
    "\n",
    "----------------------------------------------------------------------\n",
    "Sample input:\n",
    "\n",
    "[1, 2, 3, 2, 5, 1, 2, 4, 6, 2, 7, 8, 6]\n",
    "\n",
    "Sample output:\n",
    "\n",
    "8\n",
    "\n",
    "Explanation:\n",
    "\n",
    "Max distance for 1: 5\n",
    "\n",
    "Max distance for 2: 8\n",
    "\n",
    "Max distance for 3: 0\n",
    "\n",
    "Max distance for 4: 0\n",
    "\n",
    "Max distance for 5: 0\n",
    "\n",
    "Max distance for 6: 4\n",
    "\n",
    "Max distance for 7: 0\n",
    "\n",
    "Max distance for 8: 0"
   ]
  },
  {
   "cell_type": "code",
   "execution_count": 33,
   "metadata": {
    "colab": {
     "base_uri": "https://localhost:8080/"
    },
    "id": "9h0768eTgUoU",
    "outputId": "48dbc07b-f7c5-450b-c58d-f09219349f30"
   },
   "outputs": [
    {
     "name": "stdout",
     "output_type": "stream",
     "text": [
      "[1,2,3,4,4,4,5,5,6,6,3,4,5,7,8,1,1,1,2]\n",
      "{1, 2, 3, 4, 5, 6, 7, 8}\n",
      "17\n"
     ]
    }
   ],
   "source": [
    "l=eval(input())\n",
    "setl=set(l)\n",
    "list2=[]\n",
    "print(setl)\n",
    "for i in setl:\n",
    "    list1=[]\n",
    "    count=0\n",
    "    for x in l:\n",
    "        count=count+1\n",
    "        if x==i:\n",
    "            list1.append(count)\n",
    "    list2.append(max(list1)-min(list1))\n",
    "    \n",
    "print(max(list2))\n"
   ]
  },
  {
   "cell_type": "markdown",
   "metadata": {
    "id": "jAJt2LlmgbaB"
   },
   "source": [
    "**Question-6:**\n",
    "\n",
    "You have an array of integers of length n spanning 0 to n with one missing. Write a function missing_number that returns the missing number in the array.\n",
    "\n",
    "Sample Input:\n",
    "\n",
    "[0,1,2,4,5] \n",
    "\n",
    "Sample Output:\n",
    "\n",
    "missing_number(nums) -> 3"
   ]
  },
  {
   "cell_type": "code",
   "execution_count": 35,
   "metadata": {
    "colab": {
     "base_uri": "https://localhost:8080/"
    },
    "id": "dv_BdgxggkAr",
    "outputId": "148676fc-accb-4728-a676-65aceb12be8f"
   },
   "outputs": [
    {
     "name": "stdout",
     "output_type": "stream",
     "text": [
      "[0,1,2,4,5]\n",
      "3\n"
     ]
    }
   ],
   "source": [
    "a=eval(input())\n",
    "l=len(a)\n",
    "for i in range(l+1):\n",
    "    if a[i]!=i:\n",
    "        print(i)\n",
    "        break\n"
   ]
  },
  {
   "cell_type": "code",
   "execution_count": null,
   "metadata": {
    "id": "sQ1oxs4Agkmb"
   },
   "outputs": [],
   "source": []
  },
  {
   "cell_type": "markdown",
   "metadata": {
    "id": "0ZdkQ4vknU9U"
   },
   "source": [
    "**Question-7:**\n",
    "\n",
    "Let’s say there are many vehicles on a long road. At each mile along the road, a checkpoint indicates the length traveled across the road.\n",
    "\n",
    "You are given a list called vehicles which indicates the number of vehicles between each checkpoint. For example, the list [7,4,3] would mean that there are seven vehicles before the first checkpoint, four vehicles between the first and second checkpoints, and three vehicles between the second and third checkpoints.\n",
    "\n",
    "Write a function range_vehicles that will give the number of vehicles between the start and end checkpoints.\n",
    "\n",
    "Note: start may be 0\n",
    "\n",
    "**Input:**\n",
    "\n",
    "vehicles = [5,6,4,2,1]\n",
    "\n",
    "start = 1\n",
    "\n",
    "end = 3\n",
    "\n",
    "**Output:**\n",
    "\n",
    "10"
   ]
  },
  {
   "cell_type": "code",
   "execution_count": 37,
   "metadata": {
    "colab": {
     "base_uri": "https://localhost:8080/"
    },
    "id": "hdjyisCEgkr-",
    "outputId": "fe3c3c44-33d3-4c6b-ad6a-fb731fe8703e"
   },
   "outputs": [
    {
     "name": "stdout",
     "output_type": "stream",
     "text": [
      "[5,6,4,2,1]\n",
      "1\n",
      "3\n"
     ]
    },
    {
     "data": {
      "text/plain": [
       "10"
      ]
     },
     "execution_count": 37,
     "metadata": {},
     "output_type": "execute_result"
    }
   ],
   "source": [
    "def range_vehicles(a,start,end):\n",
    "    \n",
    "    new_list=a[start:end]\n",
    "    result=sum(new_list)\n",
    "    return result\n",
    "\n",
    "b=eval(input())\n",
    "c=int(input())\n",
    "d=int(input())\n",
    "\n",
    "range_vehicles(b,c,d)\n",
    "    "
   ]
  },
  {
   "cell_type": "markdown",
   "metadata": {
    "id": "snRncX6So1Cj"
   },
   "source": [
    "**Question-8**\n",
    "\n",
    "Given a dictionary with keys of letters and values of a list of letters, write a function closest_key to find the key with the input value closest to the beginning of the list.\n",
    "\n",
    "**Input:**\n",
    "\n",
    "dictionary = {\n",
    "    'a' : ['b','c','e'],\n",
    "    'm' : ['c','e'],\n",
    "}\n",
    "\n",
    "input = 'c'\n",
    "\n",
    "**Ouput:**\n",
    "\n",
    "m"
   ]
  },
  {
   "cell_type": "code",
   "execution_count": 8,
   "metadata": {
    "id": "PPvD6VWcpSRX"
   },
   "outputs": [
    {
     "name": "stdout",
     "output_type": "stream",
     "text": [
      "{ 'a' : ['b','c','e'], 'm' : ['c','e'], 'z' : ['c','a','d']} \n",
      "c\n",
      "m\n",
      "z\n"
     ]
    }
   ],
   "source": [
    "dictionary=eval(input())\n",
    "a=input()\n",
    "list1=[]\n",
    "\n",
    "for k,v in dictionary.items():\n",
    "     for i in v:\n",
    "            if i==a:\n",
    "                list1.append(v.index(i))\n",
    "                break\n",
    "                \n",
    "index1=min(list1)\n",
    "\n",
    "for k,v in dictionary.items():\n",
    "    if v[index1]==a:\n",
    "        print(k)"
   ]
  },
  {
   "cell_type": "markdown",
   "metadata": {
    "id": "6szOQVmNq-bG"
   },
   "source": [
    "**Question-9**\n",
    "\n",
    "You are given a string that represents some floating-point number. Write a function, digit_accumulator, that returns the sum of every digit in the string.\n",
    "\n",
    "**Input:**\n",
    "\n",
    "s = \"123.0045\"\n",
    "\n",
    "**Output:**\n",
    "\n",
    "15"
   ]
  },
  {
   "cell_type": "code",
   "execution_count": 3,
   "metadata": {
    "colab": {
     "base_uri": "https://localhost:8080/"
    },
    "id": "3e5jMNQErNKY",
    "outputId": "25026bf7-48f0-4447-ab2c-3d459efa708b"
   },
   "outputs": [
    {
     "name": "stdout",
     "output_type": "stream",
     "text": [
      "123.0045\n",
      "15\n"
     ]
    }
   ],
   "source": [
    "a=str(input())\n",
    "list1=[*a]\n",
    "list2=[int(i) for i in list1 if i!='.' and i!=',']\n",
    "print(sum(list2))"
   ]
  },
  {
   "cell_type": "markdown",
   "metadata": {
    "id": "v6KK37D2ujgE"
   },
   "source": [
    "**Question-10**\n",
    "\n",
    "Using the Map function, create a list 'cube', which consists of the cube of numbers in input_list.\n",
    "\n",
    "Input:\n",
    "\n",
    "[5,6,4,8,9] \n",
    "\n",
    "Output:\n",
    "\n",
    "[125, 216, 64, 512, 729]."
   ]
  },
  {
   "cell_type": "code",
   "execution_count": 13,
   "metadata": {
    "colab": {
     "base_uri": "https://localhost:8080/"
    },
    "id": "-2TCIBPYx8BC",
    "outputId": "580ad5d3-e103-4203-99ee-b95a6eb49f81"
   },
   "outputs": [
    {
     "name": "stdout",
     "output_type": "stream",
     "text": [
      "[5,6,4,8,9]\n",
      "[5, 6, 4, 8, 9]\n",
      "[125, 216, 64, 512, 729]\n"
     ]
    }
   ],
   "source": [
    "a=eval(input())\n",
    "print(a)\n",
    "b=list(map(lambda x:x**3, a))\n",
    "print(b)"
   ]
  },
  {
   "cell_type": "markdown",
   "metadata": {
    "id": "9iDWPH2F0717"
   },
   "source": [
    "**Question-11**\n",
    "\n",
    "Create a list ‘name’ consisting of the combination of the first name and the second name from list 1 and 2 respectively. \n",
    "\n",
    "\n",
    "Input:\n",
    "\n",
    "[ ['Ankur', 'Avik', 'Kiran', 'Nitin'], ['Narang', 'Sarkar', 'R', 'Sareen']]\n",
    "\n",
    "Output:\n",
    "\n",
    "['Ankur Narang', 'Avik Sarkar', 'Kiran R', 'Nitin Sareen']"
   ]
  },
  {
   "cell_type": "code",
   "execution_count": 24,
   "metadata": {
    "colab": {
     "base_uri": "https://localhost:8080/"
    },
    "id": "lgANu95x1PfQ",
    "outputId": "2bf04d7b-acfd-415a-e157-bed6a326667d"
   },
   "outputs": [
    {
     "name": "stdout",
     "output_type": "stream",
     "text": [
      "[ ['Ankur', 'Avik', 'Kiran', 'Nitin'], ['Narang', 'Sarkar', 'R', 'Sareen']]\n",
      "['Ankur Narang', 'Avik Sarkar', 'Kiran R', 'Nitin Sareen']\n"
     ]
    }
   ],
   "source": [
    "a=eval(input())\n",
    "list1=[a[0][i] + ' '+ a[1][i] for i in range(len(a[0]))]\n",
    "print(list1)\n",
    "    "
   ]
  },
  {
   "cell_type": "markdown",
   "metadata": {
    "id": "e6o7cXO_2Lvg"
   },
   "source": [
    "**Question-12**\n",
    "\n",
    "Add the element ‘Python’ to a tuple input_tuple = ('Monty Python', 'British', 1969). "
   ]
  },
  {
   "cell_type": "markdown",
   "metadata": {
    "colab": {
     "base_uri": "https://localhost:8080/"
    },
    "id": "ZJjsEOoh2S8y",
    "outputId": "a03e111a-d464-4e53-dea2-e4e29c15f5ae"
   },
   "source": [
    "import ast\n",
    "a=ast.literal_eval(input())\n",
    "b=eval(input())\n",
    "result=(*a,b)\n",
    "result1=a+b\n",
    "result2=sum(a,b)\n",
    "print(result)\n",
    "print(result1)\n",
    "print(result2)"
   ]
  },
  {
   "cell_type": "code",
   "execution_count": 28,
   "metadata": {},
   "outputs": [
    {
     "name": "stdout",
     "output_type": "stream",
     "text": [
      "Hi Can we get rid of the periods here\n",
      "No Python documentation found for 'Hi Can we get rid of the periods here'.\n",
      "Use help() to get the interactive help utility.\n",
      "Use help(str) for help on the str class.\n",
      "\n"
     ]
    }
   ],
   "source": [
    "string_to_split = 'Hi.Can.we.get.rid.of.the.periods.here'\n",
    "out = \" \".join(string_to_split.split('.'))\n",
    "print(out5)"
   ]
  },
  {
   "cell_type": "code",
   "execution_count": 8,
   "metadata": {},
   "outputs": [
    {
     "name": "stdout",
     "output_type": "stream",
     "text": [
      "JHBVHHJB\n"
     ]
    }
   ],
   "source": [
    "a='jhbvhhjb'\n",
    "print(a.upper())"
   ]
  },
  {
   "cell_type": "code",
   "execution_count": 2,
   "metadata": {},
   "outputs": [],
   "source": [
    "list1=[1,2,3,4,5]\n",
    "list1.insert(1, (2,3))\n"
   ]
  },
  {
   "cell_type": "code",
   "execution_count": 3,
   "metadata": {},
   "outputs": [
    {
     "name": "stdout",
     "output_type": "stream",
     "text": [
      "[1, (2, 3), 2, 3, 4, 5]\n"
     ]
    }
   ],
   "source": [
    "print(list1)"
   ]
  },
  {
   "cell_type": "code",
   "execution_count": 11,
   "metadata": {},
   "outputs": [
    {
     "name": "stdout",
     "output_type": "stream",
     "text": [
      "12\n",
      "insert 0 5\n",
      "insert 1 10\n",
      "insert 0 6\n",
      "print\n",
      "remove 6\n",
      "append 9\n",
      "append 1\n",
      "sort\n",
      "print\n",
      "pop\n",
      "reverse\n",
      "print\n",
      "[6, 5, 10]\n",
      "[1, 5, 9, 10]\n",
      "[9, 5, 1]\n"
     ]
    }
   ],
   "source": [
    "a=int(input())\n",
    "list1=[]\n",
    "for i in range(a):\n",
    "    listb=((input().split(' ')))\n",
    "    list1.append(listb)\n",
    "listf=[]\n",
    "for i in list1:\n",
    "    if i[0]=='insert':\n",
    "        listf.insert(int(i[1]), int(i[2]))\n",
    "    elif i[0]=='print':\n",
    "        print(listf, end=\"\\n\")\n",
    "    elif i[0]=='remove':\n",
    "        listf.remove(int(i[1]))\n",
    "    elif i[0]=='append':\n",
    "        listf.append(int(i[1]))\n",
    "    elif i[0]=='sort':\n",
    "        listf.sort()\n",
    "    elif i[0]=='pop':\n",
    "        listf.pop()\n",
    "    elif i[0]=='reverse':\n",
    "        listf.reverse()\n",
    "        \n"
   ]
  },
  {
   "cell_type": "code",
   "execution_count": 25,
   "metadata": {
    "scrolled": true
   },
   "outputs": [
    {
     "name": "stdout",
     "output_type": "stream",
     "text": [
      "2\n",
      "1 2\n",
      "-3550055125485641917\n"
     ]
    }
   ],
   "source": [
    "x=int(input())\n",
    "a=input().split(' ')\n",
    "b=[int(i) for i in a]\n",
    "tup=tuple(b)\n",
    "print(hash(tup))"
   ]
  },
  {
   "cell_type": "code",
   "execution_count": 24,
   "metadata": {},
   "outputs": [
    {
     "name": "stdout",
     "output_type": "stream",
     "text": [
      "1 2\n",
      "-3550055125485641917\n"
     ]
    }
   ],
   "source": [
    "b=tuple(map(int, input().split(' ')))\n",
    "print(hash(b))"
   ]
  },
  {
   "cell_type": "code",
   "execution_count": 1,
   "metadata": {
    "scrolled": true
   },
   "outputs": [
    {
     "name": "stdout",
     "output_type": "stream",
     "text": [
      "3 3 3\n",
      "[[[0 0 0]\n",
      "  [0 0 0]\n",
      "  [0 0 0]]\n",
      "\n",
      " [[0 0 0]\n",
      "  [0 0 0]\n",
      "  [0 0 0]]\n",
      "\n",
      " [[0 0 0]\n",
      "  [0 0 0]\n",
      "  [0 0 0]]]\n",
      "[[[1 1 1]\n",
      "  [1 1 1]\n",
      "  [1 1 1]]\n",
      "\n",
      " [[1 1 1]\n",
      "  [1 1 1]\n",
      "  [1 1 1]]\n",
      "\n",
      " [[1 1 1]\n",
      "  [1 1 1]\n",
      "  [1 1 1]]]\n"
     ]
    }
   ],
   "source": [
    "import numpy as np\n",
    "a=tuple(map(int, input().split(' ')))\n",
    "print(np.zeros(a, dtype='int'))\n",
    "# print(b)\n",
    "print(np.ones(a, dtype='int'))\n",
    "# print(c)"
   ]
  },
  {
   "cell_type": "code",
   "execution_count": 10,
   "metadata": {},
   "outputs": [
    {
     "name": "stdout",
     "output_type": "stream",
     "text": [
      "1 2 3 4 -8 -10\n"
     ]
    },
    {
     "data": {
      "text/plain": [
       "array([-10,  -8,   4,   3,   2,   1])"
      ]
     },
     "execution_count": 10,
     "metadata": {},
     "output_type": "execute_result"
    }
   ],
   "source": [
    "a=list(map(int, input().split(' ')))\n",
    "a.reverse()\n",
    "b=np.array(a)\n",
    "b"
   ]
  },
  {
   "cell_type": "code",
   "execution_count": 19,
   "metadata": {},
   "outputs": [
    {
     "name": "stdout",
     "output_type": "stream",
     "text": [
      "1.1 -1.2\n",
      "[-1.2  1.1]\n"
     ]
    }
   ],
   "source": [
    "import numpy\n",
    "\n",
    "def arrays(arr):\n",
    "    a=list(map(float, arr))\n",
    "    a.reverse()\n",
    "    b=np.array(a)\n",
    "    return b    \n",
    "    \n",
    "arr = input().strip().split(' ')\n",
    "result = arrays(arr)\n",
    "print(result)"
   ]
  },
  {
   "cell_type": "code",
   "execution_count": 20,
   "metadata": {
    "scrolled": true
   },
   "outputs": [
    {
     "name": "stdout",
     "output_type": "stream",
     "text": [
      "1 2 3 4 5 6 7 8 9\n",
      "[[1 2 3]\n",
      " [4 5 6]\n",
      " [7 8 9]]\n"
     ]
    }
   ],
   "source": [
    "a=list(map(int, input().split(' ')))\n",
    "b=np.array(a)\n",
    "b.shape=(3,3)\n",
    "print(b)\n"
   ]
  },
  {
   "cell_type": "code",
   "execution_count": 35,
   "metadata": {
    "scrolled": true
   },
   "outputs": [
    {
     "name": "stdout",
     "output_type": "stream",
     "text": [
      "3 2\n",
      "1 2\n",
      "3 4\n",
      "5 6\n",
      "[[1 3 5]\n",
      " [2 4 6]]\n",
      "[1 2 3 4 5 6]\n"
     ]
    }
   ],
   "source": [
    "sh=tuple(map(int, input().split(' ')))\n",
    "a=[]\n",
    "for i in range(sh[0]): \n",
    "    a.append(list(map(int, input().split(' '))))\n",
    "\n",
    "\n",
    "arr=np.array(a)\n",
    "arr.shape=sh\n",
    "arr1=np.transpose(arr)\n",
    "print(arr1)\n",
    "arr2=arr.flatten()\n",
    "print(arr2)\n"
   ]
  },
  {
   "cell_type": "raw",
   "metadata": {},
   "source": [
    "Question :  Concatenate\n",
    "\n",
    "Two or more arrays can be concatenated together using the concatenate function with a tuple of the arrays to be joined:\n",
    "\n",
    "import numpy\n",
    "\n",
    "array_1 = numpy.array([1,2,3])\n",
    "array_2 = numpy.array([4,5,6])\n",
    "array_3 = numpy.array([7,8,9])\n",
    "\n",
    "print numpy.concatenate((array_1, array_2, array_3))    \n",
    "\n",
    "#Output\n",
    "[1 2 3 4 5 6 7 8 9]\n",
    "If an array has more than one dimension, it is possible to specify the axis along which multiple arrays are concatenated. By default, it is along the first dimension.\n",
    "\n",
    "import numpy\n",
    "\n",
    "array_1 = numpy.array([[1,2,3],[0,0,0]])\n",
    "array_2 = numpy.array([[0,0,0],[7,8,9]])\n",
    "\n",
    "print numpy.concatenate((array_1, array_2), axis = 1)   \n",
    "\n",
    "#Output\n",
    "[[1 2 3 0 0 0]\n",
    " [0 0 0 7 8 9]]    \n",
    "Task\n",
    "\n",
    "You are given two integer arrays of size X and X ( &  are rows, and  is the column). Your task is to concatenate the arrays along axis .\n",
    "\n",
    "Input Format\n",
    "\n",
    "The first line contains space separated integers ,  and .\n",
    "The next  lines contains the space separated elements of the  columns.\n",
    "After that, the next  lines contains the space separated elements of the  columns.\n",
    "\n",
    "Output Format\n",
    "\n",
    "Print the concatenated array of size X.\n",
    "\n",
    "Sample Input\n",
    "\n",
    "4 3 2\n",
    "1 2\n",
    "1 2 \n",
    "1 2\n",
    "1 2\n",
    "3 4\n",
    "3 4\n",
    "3 4 \n",
    "Sample Output\n",
    "\n",
    "[[1 2]\n",
    " [1 2]\n",
    " [1 2]\n",
    " [1 2]\n",
    " [3 4]\n",
    " [3 4]\n",
    " [3 4]] "
   ]
  },
  {
   "cell_type": "code",
   "execution_count": 51,
   "metadata": {},
   "outputs": [
    {
     "name": "stdout",
     "output_type": "stream",
     "text": [
      "2 2 2\n",
      "1 2\n",
      "3 4\n",
      "5 6\n",
      "7 8\n",
      "[[1 2]\n",
      " [3 4]\n",
      " [5 6]\n",
      " [7 8]]\n"
     ]
    }
   ],
   "source": [
    "import numpy as np\n",
    "a=list(map(int , input().split(' ')))\n",
    "count=0\n",
    "b=[]\n",
    "c=[]\n",
    "for i in a:\n",
    "    count=count+1\n",
    "    if count==1:\n",
    "        for x in range(i):\n",
    "            b.extend(input().split(' ')) \n",
    "    elif count==2:\n",
    "        for y in range(i):\n",
    "            c.extend(input().split(' '))\n",
    "    elif count==3:\n",
    "        break\n",
    "        \n",
    "b=list(map(int,b))\n",
    "c=list(map(int,c))\n",
    "arr1=np.array(b)\n",
    "arr2=np.array(c)\n",
    "sh1=tuple(a[0:3:2])\n",
    "sh2=tuple(a[1:3])\n",
    "arr1.shape=sh1\n",
    "arr2.shape=sh2\n",
    "\n",
    "print(np.concatenate((arr1,arr2), axis=0))"
   ]
  },
  {
   "cell_type": "code",
   "execution_count": 14,
   "metadata": {},
   "outputs": [
    {
     "name": "stdout",
     "output_type": "stream",
     "text": [
      "2\n",
      "1.1 1.1\n",
      "1.1 1.1\n",
      "0.0\n"
     ]
    }
   ],
   "source": [
    "import numpy as np\n",
    "a=int(input())\n",
    "b=[]\n",
    "for i in range(a):\n",
    "    b.extend(list(map(float,(input().strip().split(' ')))))\n",
    "\n",
    "x=np.array(b, dtype='float').reshape((a,a))\n",
    "print(round(np.linalg.det(x), 2))\n",
    "    "
   ]
  },
  {
   "cell_type": "code",
   "execution_count": 16,
   "metadata": {
    "scrolled": true
   },
   "outputs": [
    {
     "data": {
      "text/html": [
       "<div>\n",
       "<style scoped>\n",
       "    .dataframe tbody tr th:only-of-type {\n",
       "        vertical-align: middle;\n",
       "    }\n",
       "\n",
       "    .dataframe tbody tr th {\n",
       "        vertical-align: top;\n",
       "    }\n",
       "\n",
       "    .dataframe thead th {\n",
       "        text-align: right;\n",
       "    }\n",
       "</style>\n",
       "<table border=\"1\" class=\"dataframe\">\n",
       "  <thead>\n",
       "    <tr style=\"text-align: right;\">\n",
       "      <th></th>\n",
       "      <th>Name</th>\n",
       "      <th>OverallGrade</th>\n",
       "      <th>Obedient</th>\n",
       "      <th>ResearchScore</th>\n",
       "      <th>ProjectScore</th>\n",
       "      <th>Recommend</th>\n",
       "    </tr>\n",
       "  </thead>\n",
       "  <tbody>\n",
       "    <tr>\n",
       "      <th>0</th>\n",
       "      <td>Henry</td>\n",
       "      <td>A</td>\n",
       "      <td>Y</td>\n",
       "      <td>90</td>\n",
       "      <td>85</td>\n",
       "      <td>Yes</td>\n",
       "    </tr>\n",
       "    <tr>\n",
       "      <th>1</th>\n",
       "      <td>John</td>\n",
       "      <td>C</td>\n",
       "      <td>N</td>\n",
       "      <td>85</td>\n",
       "      <td>51</td>\n",
       "      <td>Yes</td>\n",
       "    </tr>\n",
       "    <tr>\n",
       "      <th>2</th>\n",
       "      <td>David</td>\n",
       "      <td>F</td>\n",
       "      <td>N</td>\n",
       "      <td>10</td>\n",
       "      <td>17</td>\n",
       "      <td>No</td>\n",
       "    </tr>\n",
       "    <tr>\n",
       "      <th>3</th>\n",
       "      <td>Holmes</td>\n",
       "      <td>B</td>\n",
       "      <td>Y</td>\n",
       "      <td>75</td>\n",
       "      <td>71</td>\n",
       "      <td>No</td>\n",
       "    </tr>\n",
       "    <tr>\n",
       "      <th>4</th>\n",
       "      <td>Marvin</td>\n",
       "      <td>E</td>\n",
       "      <td>N</td>\n",
       "      <td>20</td>\n",
       "      <td>30</td>\n",
       "      <td>No</td>\n",
       "    </tr>\n",
       "    <tr>\n",
       "      <th>5</th>\n",
       "      <td>Simon</td>\n",
       "      <td>A</td>\n",
       "      <td>Y</td>\n",
       "      <td>92</td>\n",
       "      <td>79</td>\n",
       "      <td>Yes</td>\n",
       "    </tr>\n",
       "    <tr>\n",
       "      <th>6</th>\n",
       "      <td>Robert</td>\n",
       "      <td>B</td>\n",
       "      <td>Y</td>\n",
       "      <td>60</td>\n",
       "      <td>59</td>\n",
       "      <td>No</td>\n",
       "    </tr>\n",
       "    <tr>\n",
       "      <th>7</th>\n",
       "      <td>Trent</td>\n",
       "      <td>C</td>\n",
       "      <td>Y</td>\n",
       "      <td>75</td>\n",
       "      <td>33</td>\n",
       "      <td>No</td>\n",
       "    </tr>\n",
       "  </tbody>\n",
       "</table>\n",
       "</div>"
      ],
      "text/plain": [
       "     Name OverallGrade Obedient  ResearchScore  ProjectScore Recommend\n",
       "0   Henry            A        Y             90            85       Yes\n",
       "1    John            C        N             85            51       Yes\n",
       "2   David            F        N             10            17        No\n",
       "3  Holmes            B        Y             75            71        No\n",
       "4  Marvin            E        N             20            30        No\n",
       "5   Simon            A        Y             92            79       Yes\n",
       "6  Robert            B        Y             60            59        No\n",
       "7   Trent            C        Y             75            33        No"
      ]
     },
     "execution_count": 16,
     "metadata": {},
     "output_type": "execute_result"
    }
   ],
   "source": [
    "import pandas as pd\n",
    "df=pd.read_csv('https://raw.githubusercontent.com/ingledarshan/upGrad_Darshan/main/student_records.csv')\n",
    "df"
   ]
  },
  {
   "cell_type": "code",
   "execution_count": 37,
   "metadata": {
    "scrolled": true
   },
   "outputs": [
    {
     "data": {
      "text/plain": [
       "0    nr\n",
       "1    oh\n",
       "2    vi\n",
       "3    me\n",
       "4    vi\n",
       "5    mo\n",
       "6    er\n",
       "7    en\n",
       "Name: Name, dtype: object"
      ]
     },
     "execution_count": 37,
     "metadata": {},
     "output_type": "execute_result"
    }
   ],
   "source": [
    "df['Name'].str[-3:-1]"
   ]
  },
  {
   "cell_type": "code",
   "execution_count": 39,
   "metadata": {},
   "outputs": [
    {
     "data": {
      "text/html": [
       "<div>\n",
       "<style scoped>\n",
       "    .dataframe tbody tr th:only-of-type {\n",
       "        vertical-align: middle;\n",
       "    }\n",
       "\n",
       "    .dataframe tbody tr th {\n",
       "        vertical-align: top;\n",
       "    }\n",
       "\n",
       "    .dataframe thead th {\n",
       "        text-align: right;\n",
       "    }\n",
       "</style>\n",
       "<table border=\"1\" class=\"dataframe\">\n",
       "  <thead>\n",
       "    <tr style=\"text-align: right;\">\n",
       "      <th></th>\n",
       "      <th>ResearchScore</th>\n",
       "      <th>ProjectScore</th>\n",
       "    </tr>\n",
       "  </thead>\n",
       "  <tbody>\n",
       "    <tr>\n",
       "      <th>count</th>\n",
       "      <td>8.000000</td>\n",
       "      <td>8.000000</td>\n",
       "    </tr>\n",
       "    <tr>\n",
       "      <th>mean</th>\n",
       "      <td>63.375000</td>\n",
       "      <td>53.125000</td>\n",
       "    </tr>\n",
       "    <tr>\n",
       "      <th>std</th>\n",
       "      <td>31.640559</td>\n",
       "      <td>24.752705</td>\n",
       "    </tr>\n",
       "    <tr>\n",
       "      <th>min</th>\n",
       "      <td>10.000000</td>\n",
       "      <td>17.000000</td>\n",
       "    </tr>\n",
       "    <tr>\n",
       "      <th>25%</th>\n",
       "      <td>50.000000</td>\n",
       "      <td>32.250000</td>\n",
       "    </tr>\n",
       "    <tr>\n",
       "      <th>50%</th>\n",
       "      <td>75.000000</td>\n",
       "      <td>55.000000</td>\n",
       "    </tr>\n",
       "    <tr>\n",
       "      <th>75%</th>\n",
       "      <td>86.250000</td>\n",
       "      <td>73.000000</td>\n",
       "    </tr>\n",
       "    <tr>\n",
       "      <th>max</th>\n",
       "      <td>92.000000</td>\n",
       "      <td>85.000000</td>\n",
       "    </tr>\n",
       "  </tbody>\n",
       "</table>\n",
       "</div>"
      ],
      "text/plain": [
       "       ResearchScore  ProjectScore\n",
       "count       8.000000      8.000000\n",
       "mean       63.375000     53.125000\n",
       "std        31.640559     24.752705\n",
       "min        10.000000     17.000000\n",
       "25%        50.000000     32.250000\n",
       "50%        75.000000     55.000000\n",
       "75%        86.250000     73.000000\n",
       "max        92.000000     85.000000"
      ]
     },
     "execution_count": 39,
     "metadata": {},
     "output_type": "execute_result"
    }
   ],
   "source": [
    "df.describe()"
   ]
  }
 ],
 "metadata": {
  "colab": {
   "collapsed_sections": [],
   "provenance": []
  },
  "kernelspec": {
   "display_name": "Python 3 (ipykernel)",
   "language": "python",
   "name": "python3"
  },
  "language_info": {
   "codemirror_mode": {
    "name": "ipython",
    "version": 3
   },
   "file_extension": ".py",
   "mimetype": "text/x-python",
   "name": "python",
   "nbconvert_exporter": "python",
   "pygments_lexer": "ipython3",
   "version": "3.9.12"
  }
 },
 "nbformat": 4,
 "nbformat_minor": 1
}
